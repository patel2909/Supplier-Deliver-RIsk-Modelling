{
 "cells": [
  {
   "cell_type": "code",
   "execution_count": 1,
   "id": "a5e49a69",
   "metadata": {},
   "outputs": [],
   "source": [
    "import pandas as pd\n",
    "import numpy as np"
   ]
  },
  {
   "cell_type": "code",
   "execution_count": 10,
   "id": "739b41d8",
   "metadata": {},
   "outputs": [],
   "source": [
    "al = pd.read_csv(\"s3://landing-external/rearc-fred-commodities/fred/PPI_Aluminum/latest/PCU3313153313150.csv\", parse_dates  = ['DATE'])\n",
    "al_sheet_strip = pd.read_csv(\"s3://landing-external/rearc-fred-commodities/fred/PPI_Commodity_Metals_Aluminum_Sheet_Strip/latest/WPU10250105.csv\", parse_dates  = ['DATE'])\n",
    "cu_br_mill_shape = pd.read_csv(\"s3://landing-external/rearc-fred-commodities/fred/PPI_Copper_Brass_Mill_Shapes/latest/WPU102502.csv\", parse_dates  = ['DATE'])\n",
    "bauxite = pd.read_csv(\"s3://landing-external/rearc-fred-commodities/fred/PPI_Industry_Alumina_Aluminum_Bauxite/latest/PCU3313133131.csv\", parse_dates  = ['DATE'])\n",
    "iron_ore = pd.read_csv(\"s3://landing-external/rearc-fred-commodities/fred/PPI_Industry_Iron_Ore_Mining/latest/PCU2122121221.csv\", parse_dates  = ['DATE'])\n",
    "plastic = pd.read_csv(\"s3://landing-external/rearc-fred-commodities/fred/PPI_Industry_Plastics_Products_Manufacturing/latest/PCU32613261.csv\", parse_dates  = ['DATE'])\n",
    "iron_steel = pd.read_csv(\"s3://landing-external/rearc-fred-commodities/fred/PPI_Metals_Iron_Steel/latest/WPU101.csv\", parse_dates  = ['DATE'])\n",
    "stainless_steel = pd.read_csv(\"s3://landing-external/rearc-fred-commodities/fred/PPI_Metals_Steel_Wire_Stainless_Steel/latest/WPU10170502.csv\", parse_dates  = ['DATE'])\n",
    "nikel = pd.read_csv(\"s3://landing-external/rearc-fred-commodities/fred/PPI_Nickel/latest/WPU102504.csv\", parse_dates  = ['DATE'])\n",
    "zinc = pd.read_csv(\"s3://landing-external/rearc-fred-commodities/fred/PPI_Nonferrous_Scrap_Lead_Zinc_Precious_Metals/latest/WPU10230309.csv\", parse_dates  = ['DATE'])\n",
    "rubber_plastic = pd.read_csv(\"s3://landing-external/rearc-fred-commodities/fred/PPI_Rubber_Plastic_Products/latest/WPU07.csv\", parse_dates  = ['DATE'])\n",
    "cu = pd.read_csv(\"s3://landing-external/rearc-fred-commodities/fred/PPI_Special_Index_Copper/latest/WPUSI019011.csv\", parse_dates  = ['DATE'])\n",
    "nylon = pd.read_csv(\"s3://landing-external/rearc-fred-commodities/fred/PPI_Textile_Products_Nylon/latest/WPU031502412.csv\", parse_dates  = ['DATE'])"
   ]
  },
  {
   "cell_type": "code",
   "execution_count": 16,
   "id": "e30ac74d",
   "metadata": {},
   "outputs": [
    {
     "data": {
      "text/html": [
       "<div>\n",
       "<style scoped>\n",
       "    .dataframe tbody tr th:only-of-type {\n",
       "        vertical-align: middle;\n",
       "    }\n",
       "\n",
       "    .dataframe tbody tr th {\n",
       "        vertical-align: top;\n",
       "    }\n",
       "\n",
       "    .dataframe thead th {\n",
       "        text-align: right;\n",
       "    }\n",
       "</style>\n",
       "<table border=\"1\" class=\"dataframe\">\n",
       "  <thead>\n",
       "    <tr style=\"text-align: right;\">\n",
       "      <th></th>\n",
       "      <th>index</th>\n",
       "      <th>DATE</th>\n",
       "      <th>PCU3313153313150</th>\n",
       "    </tr>\n",
       "  </thead>\n",
       "  <tbody>\n",
       "    <tr>\n",
       "      <th>0</th>\n",
       "      <td>484</td>\n",
       "      <td>2021-10-01</td>\n",
       "      <td>244.0</td>\n",
       "    </tr>\n",
       "    <tr>\n",
       "      <th>1</th>\n",
       "      <td>483</td>\n",
       "      <td>2021-09-01</td>\n",
       "      <td>245.3</td>\n",
       "    </tr>\n",
       "  </tbody>\n",
       "</table>\n",
       "</div>"
      ],
      "text/plain": [
       "   index       DATE  PCU3313153313150\n",
       "0    484 2021-10-01             244.0\n",
       "1    483 2021-09-01             245.3"
      ]
     },
     "execution_count": 16,
     "metadata": {},
     "output_type": "execute_result"
    }
   ],
   "source": [
    "al.sort_values(by = \"DATE\", ascending = False).head()[:2].reset_index()"
   ]
  },
  {
   "cell_type": "code",
   "execution_count": 57,
   "id": "952be7bc",
   "metadata": {},
   "outputs": [],
   "source": [
    "dfs = []\n",
    "for df in [al, al_sheet_strip, cu_br_mill_shape, bauxite, iron_ore, plastic, iron_steel, stainless_steel, nikel, zinc, rubber_plastic,\n",
    "          cu, nylon]:\n",
    "    temp_df = df.sort_values(by = \"DATE\", ascending = True).tail(2)\n",
    "    temp_df['Base Commodity'] = temp_df.columns[-1]\n",
    "    temp_df.columns = ['DATE', 'Base Commodity PPI', 'Base Commodity']\n",
    "    temp_df['Base Commodity PPI'] = temp_df['Base Commodity PPI'].astype(float)\n",
    "    temp_df['Base Commodity Change%'] = temp_df['Base Commodity PPI'].pct_change()*100\n",
    "    dfs.append(temp_df)"
   ]
  },
  {
   "cell_type": "code",
   "execution_count": 60,
   "id": "12189397",
   "metadata": {},
   "outputs": [],
   "source": [
    "final_df = pd.concat(dfs, axis = 0).reset_index(drop = True).dropna()\n",
    "final_df[\"Base Commodity PPI Change\"] = ['Increase' if i > 0 else \"Decrease\" for i in final_df['Base Commodity Change%']]"
   ]
  },
  {
   "cell_type": "code",
   "execution_count": 61,
   "id": "52ce2be0",
   "metadata": {},
   "outputs": [
    {
     "data": {
      "text/html": [
       "<div>\n",
       "<style scoped>\n",
       "    .dataframe tbody tr th:only-of-type {\n",
       "        vertical-align: middle;\n",
       "    }\n",
       "\n",
       "    .dataframe tbody tr th {\n",
       "        vertical-align: top;\n",
       "    }\n",
       "\n",
       "    .dataframe thead th {\n",
       "        text-align: right;\n",
       "    }\n",
       "</style>\n",
       "<table border=\"1\" class=\"dataframe\">\n",
       "  <thead>\n",
       "    <tr style=\"text-align: right;\">\n",
       "      <th></th>\n",
       "      <th>DATE</th>\n",
       "      <th>Base Commodity PPI</th>\n",
       "      <th>Base Commodity</th>\n",
       "      <th>Base Commodity Change%</th>\n",
       "      <th>Base Commodity PPI Change</th>\n",
       "    </tr>\n",
       "  </thead>\n",
       "  <tbody>\n",
       "    <tr>\n",
       "      <th>1</th>\n",
       "      <td>2021-10-01</td>\n",
       "      <td>244.0</td>\n",
       "      <td>PCU3313153313150</td>\n",
       "      <td>-0.529963</td>\n",
       "      <td>Decrease</td>\n",
       "    </tr>\n",
       "    <tr>\n",
       "      <th>3</th>\n",
       "      <td>2021-10-01</td>\n",
       "      <td>166.7</td>\n",
       "      <td>WPU10250105</td>\n",
       "      <td>-0.418160</td>\n",
       "      <td>Decrease</td>\n",
       "    </tr>\n",
       "    <tr>\n",
       "      <th>5</th>\n",
       "      <td>2021-10-01</td>\n",
       "      <td>598.0</td>\n",
       "      <td>WPU102502</td>\n",
       "      <td>-0.033434</td>\n",
       "      <td>Decrease</td>\n",
       "    </tr>\n",
       "    <tr>\n",
       "      <th>7</th>\n",
       "      <td>2021-10-01</td>\n",
       "      <td>171.8</td>\n",
       "      <td>PCU3313133131</td>\n",
       "      <td>1.958457</td>\n",
       "      <td>Increase</td>\n",
       "    </tr>\n",
       "    <tr>\n",
       "      <th>9</th>\n",
       "      <td>2021-10-01</td>\n",
       "      <td>187.6</td>\n",
       "      <td>PCU2122121221</td>\n",
       "      <td>-1.263158</td>\n",
       "      <td>Decrease</td>\n",
       "    </tr>\n",
       "  </tbody>\n",
       "</table>\n",
       "</div>"
      ],
      "text/plain": [
       "        DATE  Base Commodity PPI    Base Commodity  Base Commodity Change%  \\\n",
       "1 2021-10-01               244.0  PCU3313153313150               -0.529963   \n",
       "3 2021-10-01               166.7       WPU10250105               -0.418160   \n",
       "5 2021-10-01               598.0         WPU102502               -0.033434   \n",
       "7 2021-10-01               171.8     PCU3313133131                1.958457   \n",
       "9 2021-10-01               187.6     PCU2122121221               -1.263158   \n",
       "\n",
       "  Base Commodity PPI Change  \n",
       "1                  Decrease  \n",
       "3                  Decrease  \n",
       "5                  Decrease  \n",
       "7                  Increase  \n",
       "9                  Decrease  "
      ]
     },
     "execution_count": 61,
     "metadata": {},
     "output_type": "execute_result"
    }
   ],
   "source": [
    "final_df.head()"
   ]
  },
  {
   "cell_type": "code",
   "execution_count": 62,
   "id": "5676f305",
   "metadata": {},
   "outputs": [
    {
     "data": {
      "text/plain": [
       "array(['PCU3313153313150', 'WPU10250105', 'WPU102502', 'PCU3313133131',\n",
       "       'PCU2122121221', 'PCU32613261', 'WPU101', 'WPU10170502',\n",
       "       'WPU102504', 'WPU10230309', 'WPU07', 'WPUSI019011', 'WPU031502412'],\n",
       "      dtype=object)"
      ]
     },
     "execution_count": 62,
     "metadata": {},
     "output_type": "execute_result"
    }
   ],
   "source": [
    "final_df['Base Commodity'].unique()"
   ]
  },
  {
   "cell_type": "code",
   "execution_count": 63,
   "id": "e6957250",
   "metadata": {},
   "outputs": [],
   "source": [
    "commodity_map = {\"WPU10170502\": 'Stainless steel', 'WPU101': 'Steel', 'PCU32613261': 'Plastic', 'WPU031502412': 'Nylon',\n",
    "                'PCU3313133131': 'Aluminum', 'WPUSI019011': 'Copper', 'WPU07': 'Rubber', 'WPU102502': 'Brass',\n",
    "                'WPU10230309': 'Zinc die-casting'}\n",
    "final_df['Base Commodity'] = final_df['Base Commodity'].replace(commodity_map)"
   ]
  },
  {
   "cell_type": "code",
   "execution_count": 64,
   "id": "c48f02e8",
   "metadata": {},
   "outputs": [
    {
     "data": {
      "text/html": [
       "<div>\n",
       "<style scoped>\n",
       "    .dataframe tbody tr th:only-of-type {\n",
       "        vertical-align: middle;\n",
       "    }\n",
       "\n",
       "    .dataframe tbody tr th {\n",
       "        vertical-align: top;\n",
       "    }\n",
       "\n",
       "    .dataframe thead th {\n",
       "        text-align: right;\n",
       "    }\n",
       "</style>\n",
       "<table border=\"1\" class=\"dataframe\">\n",
       "  <thead>\n",
       "    <tr style=\"text-align: right;\">\n",
       "      <th></th>\n",
       "      <th>DATE</th>\n",
       "      <th>Base Commodity PPI</th>\n",
       "      <th>Base Commodity</th>\n",
       "      <th>Base Commodity Change%</th>\n",
       "      <th>Base Commodity PPI Change</th>\n",
       "    </tr>\n",
       "  </thead>\n",
       "  <tbody>\n",
       "    <tr>\n",
       "      <th>1</th>\n",
       "      <td>2021-10-01</td>\n",
       "      <td>244.0</td>\n",
       "      <td>PCU3313153313150</td>\n",
       "      <td>-0.529963</td>\n",
       "      <td>Decrease</td>\n",
       "    </tr>\n",
       "    <tr>\n",
       "      <th>3</th>\n",
       "      <td>2021-10-01</td>\n",
       "      <td>166.7</td>\n",
       "      <td>WPU10250105</td>\n",
       "      <td>-0.418160</td>\n",
       "      <td>Decrease</td>\n",
       "    </tr>\n",
       "    <tr>\n",
       "      <th>5</th>\n",
       "      <td>2021-10-01</td>\n",
       "      <td>598.0</td>\n",
       "      <td>Brass</td>\n",
       "      <td>-0.033434</td>\n",
       "      <td>Decrease</td>\n",
       "    </tr>\n",
       "    <tr>\n",
       "      <th>7</th>\n",
       "      <td>2021-10-01</td>\n",
       "      <td>171.8</td>\n",
       "      <td>Aluminum</td>\n",
       "      <td>1.958457</td>\n",
       "      <td>Increase</td>\n",
       "    </tr>\n",
       "    <tr>\n",
       "      <th>9</th>\n",
       "      <td>2021-10-01</td>\n",
       "      <td>187.6</td>\n",
       "      <td>PCU2122121221</td>\n",
       "      <td>-1.263158</td>\n",
       "      <td>Decrease</td>\n",
       "    </tr>\n",
       "  </tbody>\n",
       "</table>\n",
       "</div>"
      ],
      "text/plain": [
       "        DATE  Base Commodity PPI    Base Commodity  Base Commodity Change%  \\\n",
       "1 2021-10-01               244.0  PCU3313153313150               -0.529963   \n",
       "3 2021-10-01               166.7       WPU10250105               -0.418160   \n",
       "5 2021-10-01               598.0             Brass               -0.033434   \n",
       "7 2021-10-01               171.8          Aluminum                1.958457   \n",
       "9 2021-10-01               187.6     PCU2122121221               -1.263158   \n",
       "\n",
       "  Base Commodity PPI Change  \n",
       "1                  Decrease  \n",
       "3                  Decrease  \n",
       "5                  Decrease  \n",
       "7                  Increase  \n",
       "9                  Decrease  "
      ]
     },
     "execution_count": 64,
     "metadata": {},
     "output_type": "execute_result"
    }
   ],
   "source": [
    "final_df.head()"
   ]
  },
  {
   "cell_type": "code",
   "execution_count": 65,
   "id": "d70054d8",
   "metadata": {},
   "outputs": [],
   "source": [
    "final_df.to_csv(\"CommodityPPI.csv\", index = False)"
   ]
  },
  {
   "cell_type": "code",
   "execution_count": null,
   "id": "ee22bd80",
   "metadata": {},
   "outputs": [],
   "source": []
  }
 ],
 "metadata": {
  "kernelspec": {
   "display_name": "conda_python3",
   "language": "python",
   "name": "conda_python3"
  },
  "language_info": {
   "codemirror_mode": {
    "name": "ipython",
    "version": 3
   },
   "file_extension": ".py",
   "mimetype": "text/x-python",
   "name": "python",
   "nbconvert_exporter": "python",
   "pygments_lexer": "ipython3",
   "version": "3.6.13"
  }
 },
 "nbformat": 4,
 "nbformat_minor": 5
}
