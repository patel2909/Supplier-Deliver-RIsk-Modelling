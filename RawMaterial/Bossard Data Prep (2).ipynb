{
 "cells": [
  {
   "cell_type": "code",
   "execution_count": 1,
   "id": "bad90d46",
   "metadata": {
    "execution": {
     "iopub.execute_input": "2021-12-10T14:18:40.475719Z",
     "iopub.status.busy": "2021-12-10T14:18:40.474330Z",
     "iopub.status.idle": "2021-12-10T14:18:44.671147Z",
     "shell.execute_reply": "2021-12-10T14:18:44.671781Z"
    }
   },
   "outputs": [],
   "source": [
    "import pandas as pd\n",
    "import numpy as np\n",
    "import random, string\n",
    "import datetime\n",
    "from datetime import date\n",
    "from random import randrange\n",
    "from datetime import timedelta\n",
    "pd.set_option('display.max_columns', None)  \n",
    "pd.set_option('display.max_rows', None)\n",
    "import warnings\n",
    "warnings.filterwarnings(\"ignore\")\n",
    "import boto3\n",
    "import os\n",
    "import logging"
   ]
  },
  {
   "cell_type": "code",
   "execution_count": 2,
   "id": "d0a2c203",
   "metadata": {
    "execution": {
     "iopub.execute_input": "2021-12-10T14:18:44.676682Z",
     "iopub.status.busy": "2021-12-10T14:18:44.675703Z",
     "iopub.status.idle": "2021-12-10T14:18:44.679841Z",
     "shell.execute_reply": "2021-12-10T14:18:44.679310Z"
    }
   },
   "outputs": [],
   "source": [
    "#Create and configure logger\n",
    "logging.basicConfig(filename=\"newfile.log\",\n",
    "                    format='%(asctime)s %(message)s',\n",
    "                    filemode='w')\n",
    "  \n",
    "#Creating an object\n",
    "logger=logging.getLogger()\n",
    "\n",
    "logger.info(\"Notebook Execution Part 1 - Main Raw Material Table\")"
   ]
  },
  {
   "cell_type": "code",
   "execution_count": 3,
   "id": "4e50d37d",
   "metadata": {
    "execution": {
     "iopub.execute_input": "2021-12-10T14:18:44.696896Z",
     "iopub.status.busy": "2021-12-10T14:18:44.692618Z",
     "iopub.status.idle": "2021-12-10T14:18:45.226344Z",
     "shell.execute_reply": "2021-12-10T14:18:45.225532Z"
    }
   },
   "outputs": [],
   "source": [
    "# bucket setup\n",
    "s3 = boto3.resource('s3')\n",
    "bucket_name = 'jd-processed-1'"
   ]
  },
  {
   "cell_type": "code",
   "execution_count": 4,
   "id": "6b4e7590",
   "metadata": {
    "execution": {
     "iopub.execute_input": "2021-12-10T14:18:45.231365Z",
     "iopub.status.busy": "2021-12-10T14:18:45.230760Z",
     "iopub.status.idle": "2021-12-10T14:18:54.965993Z",
     "shell.execute_reply": "2021-12-10T14:18:54.965190Z"
    }
   },
   "outputs": [],
   "source": [
    "bossard = pd.read_parquet(\"s3://reformatted-bossard/bossardjdcollab.parquet\", engine = \"pyarrow\")\n",
    "# bossard = pd.read_csv(\"File from the Supplier.csv\")\n",
    "deere = pd.read_csv(\"Bossard Extract_v2_final\", engine = 'c')\n",
    "# deere = pd.read_csv(\"File from Client.csv\", engine = 'c')\n",
    "commodity = pd.read_csv(\"CommodityPPI.csv\").drop('DATE', axis = 1)\n",
    "# deere = pd.read_excel(\"Bossard Extract_v2_final (1).xlsx\", engine = \"openpyxl\")[1:]"
   ]
  },
  {
   "cell_type": "code",
   "execution_count": 5,
   "id": "69f981a0",
   "metadata": {
    "execution": {
     "iopub.execute_input": "2021-12-10T14:18:54.972456Z",
     "iopub.status.busy": "2021-12-10T14:18:54.971854Z",
     "iopub.status.idle": "2021-12-10T14:18:54.975140Z",
     "shell.execute_reply": "2021-12-10T14:18:54.975617Z"
    }
   },
   "outputs": [],
   "source": [
    "columns = ['PO Number', 'Part Number', 'SAP Line Down Date', 'SAP Line Down Including ASN', 'Part on Waterloo Critical Report?', 'Waterloo Report DOH', '# of Units that Use this Part',\n",
    "'Annual EAU per part # (All units)', 'On Hand Inventory at Deere', 'In Transit Inventory to Deere', 'Deere Ordering Location Stock + ASN Qty',\n",
    "'Supplier Stock', 'P/N: Per Unit Price (Deere Data/Supplier Data)', 'Base Commodity', 'Base Commodity PPI',\n",
    "'Base Commodity PPI Change', 'Base Commodity Change%', 'Supplier Critical Part Number',\n",
    "'Supplier Can Build Critical Part Qty: On Hand', 'Tier N Supplier PO#', 'Tier N Supplier PO Due Date', 'Tier N Supplier PO Forecast Date',\n",
    "'Tier N PO Qty', 'Tier N Supplier Location (Country)', 'Supplier Tier N Supplier Name', 'Critical Part Alert', 'Deere PO Demand',\n",
    "'Is Supplier Tier N Forecast Date within 30 days of Deere Need Date? (0 - No, 1 - Yes)', 'Does Inventory On-Hand Meet Demand including able to build (0 - No, 1 - Yes)',\n",
    "'Inventory Alert','Supplier Alternative Supplier 1', 'Supplier Alternative Supplier Qty:', 'Supplier Alternative Supplier 2', 'Supplier Alternative Supplier 3','Supplier Product Line',\n",
    "'Product Family','Product Material Family', 'Material Description', 'Commodity Group', 'Plant', 'Responsibility Area',\n",
    "'Deere Location Name', 'Deere Alt Location 1 Name', 'Deere Alt Location 2 Name', 'Deere Stock', 'Transit Stock','Country Code',\n",
    "'Supplier #', 'Supplier Name', 'Deere Product Family', 'On Hand Iowa', 'On Hand Tenessee', 'Confirmed Qty', 'Minimum Shipping Date',\n",
    "'Tier N Supplier Location', 'In Transit Inventory to Supplier', 'PO Due Date', 'Actual Deere PO Demand', 'Forecasted Deere PO Demand',\n",
    "'Country', 'State', 'City', 'JDDemand_6mos', 'JDDemand_12mos', 'Cumulative PO demand', 'LeadTime']"
   ]
  },
  {
   "cell_type": "code",
   "execution_count": 6,
   "id": "56fcb5d9",
   "metadata": {
    "execution": {
     "iopub.execute_input": "2021-12-10T14:18:54.980066Z",
     "iopub.status.busy": "2021-12-10T14:18:54.979046Z",
     "iopub.status.idle": "2021-12-10T14:18:54.981102Z",
     "shell.execute_reply": "2021-12-10T14:18:54.981582Z"
    }
   },
   "outputs": [],
   "source": [
    "# columns = ['PO Number', 'Part Number', 'SAP Line Down Date', 'SAP Line Down Including ASN', 'Part on Waterloo Critical Report?', 'Waterloo Report DOH', '# of Units that Use this Part',\n",
    "# 'Annual EAU per part # (All units)', 'On Hand Inventory at Deere', 'In Transit Inventory to Deere', 'Deere Ordering Location Stock + ASN Qty',\n",
    "# 'Supplier Stock', 'P/N: Per Unit Price (Deere Data/Supplier Data)', 'Base Commodity (Provided by Supplier)', 'Base Commodity Price (3rd Party Data)',\n",
    "# 'Base Commodity Price Change (3rd Party Data)', 'Base Commodity Change % (3rd Party Data)', 'Supplier Critical Part Number',\n",
    "# 'Supplier Can Build Critical Part Qty: On Hand', 'Tier N Supplier PO#', 'Tier N Supplier PO Due Date', 'Tier N Supplier PO Forecast Date',\n",
    "# 'Tier N PO Qty', 'Tier N Supplier Location (Country)', 'Supplier Tier N Supplier Name', 'Critical Part Alert', 'Deere PO Demand',\n",
    "# 'Is Supplier Tier N Forecast Date within 30 days of Deere Need Date? (0 - No, 1 - Yes)', 'Does Inventory On-Hand Meet Demand including able to build (0 - No, 1 - Yes)',\n",
    "# 'Inventory Alert','Supplier Alternative Supplier 1', 'Supplier Alternative Supplier Qty:', 'Supplier Alternative Supplier 2', 'Supplier Alternative Supplier 3','Supplier Product Line',\n",
    "# 'Product Family','Product Material Family', 'Material Description', 'Commodity Group', 'Plant', 'Responsibility Area',\n",
    "# 'Deere Location Name', 'Deere Alt Location 1 Name', 'Deere Alt Location 2 Name', 'Deere Stock', 'Transit Stock','Country Code',\n",
    "# 'Supplier #', 'Supplier Name', 'Deere Product Family', 'On Hand Iowa', 'On Hand Tenessee', 'Confirmed Qty', 'Minimum Shipping Date',\n",
    "# 'Tier N Supplier Location', 'In Transit Inventory to Supplier', 'PO Due Date', 'Actual Deere PO Demand', 'Forecasted Deere PO Demand',\n",
    "# 'Country', 'State', 'City', 'JDDemand_6mos', 'JDDemand_12mos', 'Cumulative PO demand', 'LeadTime']"
   ]
  },
  {
   "cell_type": "code",
   "execution_count": 7,
   "id": "397e66a5",
   "metadata": {
    "execution": {
     "iopub.execute_input": "2021-12-10T14:18:54.988640Z",
     "iopub.status.busy": "2021-12-10T14:18:54.988025Z",
     "iopub.status.idle": "2021-12-10T14:18:54.996307Z",
     "shell.execute_reply": "2021-12-10T14:18:54.995774Z"
    }
   },
   "outputs": [],
   "source": [
    "# Update the mapping as new location comes in\n",
    "bossard['Tier N Supplier Location (Country)'] = bossard['VendorCountry'].replace({\"CH\": \"Switzerland\", \"TW\": \"Taiwan\", \"IN\":\"India\",\n",
    "                                                                       \"US\": \"United States\", \"CN\": \"China\", \"DE\": \"Germany\",\n",
    "                                                                       \"BR\": \"Brazil\", \"KR\": \"Korea\", \"CA\": \"Canada\", \"TR\":\"Turkey\",\n",
    "                                                                       \"IT\": \"Italy\", \"VN\": \"Vietnam\", \"GB\": \"Great Britain\"})\n",
    "bossard = bossard.rename(columns = {\"JDPartNumber\":\"Part Number\"})"
   ]
  },
  {
   "cell_type": "code",
   "execution_count": 8,
   "id": "a19dd279",
   "metadata": {
    "execution": {
     "iopub.execute_input": "2021-12-10T14:18:55.000340Z",
     "iopub.status.busy": "2021-12-10T14:18:54.999754Z",
     "iopub.status.idle": "2021-12-10T14:18:55.264046Z",
     "shell.execute_reply": "2021-12-10T14:18:55.263385Z"
    }
   },
   "outputs": [],
   "source": [
    "# deere_processed = deere.dropna(subset = ['SAP Line Down Date', 'PO Due Date', 'PO Placement Date', 'SAP Line Down Including ASN'])\n",
    "deere_processed = deere.copy()\n",
    "deere_processed['Part Number'] = deere['Part Number'].str.strip()"
   ]
  },
  {
   "cell_type": "code",
   "execution_count": 9,
   "id": "f9840a89",
   "metadata": {
    "execution": {
     "iopub.execute_input": "2021-12-10T14:18:55.327816Z",
     "iopub.status.busy": "2021-12-10T14:18:55.326681Z",
     "iopub.status.idle": "2021-12-10T14:18:55.330881Z",
     "shell.execute_reply": "2021-12-10T14:18:55.330251Z"
    }
   },
   "outputs": [],
   "source": [
    "deere_part_number = set(deere_processed['Part Number'])\n",
    "bossard_part_number = set(bossard['Part Number'])"
   ]
  },
  {
   "cell_type": "code",
   "execution_count": 10,
   "id": "561090f6",
   "metadata": {
    "execution": {
     "iopub.execute_input": "2021-12-10T14:18:55.336442Z",
     "iopub.status.busy": "2021-12-10T14:18:55.335846Z",
     "iopub.status.idle": "2021-12-10T14:18:55.338354Z",
     "shell.execute_reply": "2021-12-10T14:18:55.337811Z"
    }
   },
   "outputs": [],
   "source": [
    "common_parts = deere_part_number.intersection(bossard_part_number)\n",
    "deere_not_bossard = deere_part_number - bossard_part_number\n",
    "bossard_not_deere = bossard_part_number - deere_part_number"
   ]
  },
  {
   "cell_type": "code",
   "execution_count": 11,
   "id": "924f1fd9",
   "metadata": {
    "execution": {
     "iopub.execute_input": "2021-12-10T14:18:55.346354Z",
     "iopub.status.busy": "2021-12-10T14:18:55.345672Z",
     "iopub.status.idle": "2021-12-10T14:18:56.905233Z",
     "shell.execute_reply": "2021-12-10T14:18:56.904664Z"
    }
   },
   "outputs": [],
   "source": [
    "d = {\"Common Part Number\": list(common_parts), \n",
    "     \"Parts in Deere but not is Bossard\": list(deere_not_bossard),\n",
    "     \"Parts in Bossard but not is Deere\": list(bossard_not_deere)}\n",
    "\n",
    "missing_parts = pd.DataFrame(dict([ (k,pd.Series(v)) for k,v in d.items() ]))\n",
    "\n",
    "# Bossard Final write\n",
    "missing_parts.to_csv('Parts_Mismatch.csv', index = False)\n",
    "\n",
    "prefix = 'Final/bossard/'\n",
    "boto3.Session().resource('s3').Bucket(bucket_name).Object(os.path.join(prefix, 'Parts_Mismatch.csv')).upload_file('Parts_Mismatch.csv')"
   ]
  },
  {
   "cell_type": "code",
   "execution_count": 12,
   "id": "8072bd0e",
   "metadata": {
    "execution": {
     "iopub.execute_input": "2021-12-10T14:18:56.908903Z",
     "iopub.status.busy": "2021-12-10T14:18:56.907939Z",
     "iopub.status.idle": "2021-12-10T14:18:56.912202Z",
     "shell.execute_reply": "2021-12-10T14:18:56.911451Z"
    }
   },
   "outputs": [],
   "source": [
    "# len(deere_part_number), len(bossard_part_number), len(common_parts), len(deere_not_bossard), len(bossard_not_deere)"
   ]
  },
  {
   "cell_type": "code",
   "execution_count": 13,
   "id": "9581fd5d",
   "metadata": {
    "execution": {
     "iopub.execute_input": "2021-12-10T14:18:56.917473Z",
     "iopub.status.busy": "2021-12-10T14:18:56.916645Z",
     "iopub.status.idle": "2021-12-10T14:18:58.122633Z",
     "shell.execute_reply": "2021-12-10T14:18:58.123148Z"
    }
   },
   "outputs": [],
   "source": [
    "merge_file = pd.merge(deere_processed, bossard, on = \"Part Number\", how = \"inner\")"
   ]
  },
  {
   "cell_type": "code",
   "execution_count": 14,
   "id": "4a15a616",
   "metadata": {
    "execution": {
     "iopub.execute_input": "2021-12-10T14:18:58.133630Z",
     "iopub.status.busy": "2021-12-10T14:18:58.133023Z",
     "iopub.status.idle": "2021-12-10T14:18:58.139636Z",
     "shell.execute_reply": "2021-12-10T14:18:58.139114Z"
    }
   },
   "outputs": [
    {
     "data": {
      "text/plain": [
       "40"
      ]
     },
     "execution_count": 1,
     "metadata": {},
     "output_type": "execute_result"
    }
   ],
   "source": [
    "len(merge_file.columns)"
   ]
  },
  {
   "cell_type": "code",
   "execution_count": 15,
   "id": "9759d148",
   "metadata": {
    "execution": {
     "iopub.execute_input": "2021-12-10T14:18:58.144431Z",
     "iopub.status.busy": "2021-12-10T14:18:58.143841Z",
     "iopub.status.idle": "2021-12-10T14:18:58.588183Z",
     "shell.execute_reply": "2021-12-10T14:18:58.587623Z"
    }
   },
   "outputs": [],
   "source": [
    "cols_to_del = ['Part Number.1', 'Deere Ordering Plant Code.1', 'Part Number Plant Code', 'Deere Product Type',\n",
    "               'OnShipping_MinETA', 'TotalPipeline', 'VendorCountry']\n",
    "\n",
    "merge_file = merge_file.drop(cols_to_del, axis = 1)"
   ]
  },
  {
   "cell_type": "code",
   "execution_count": 16,
   "id": "5edd0c36",
   "metadata": {
    "execution": {
     "iopub.execute_input": "2021-12-10T14:18:58.597847Z",
     "iopub.status.busy": "2021-12-10T14:18:58.597213Z",
     "iopub.status.idle": "2021-12-10T14:19:00.259936Z",
     "shell.execute_reply": "2021-12-10T14:19:00.259377Z"
    }
   },
   "outputs": [],
   "source": [
    "merge_file['PO Number'] = merge_file['PO Number'].astype(str)\n",
    "merge_file['SAP Line Down Including ASN'] = pd.to_datetime(merge_file['SAP Line Down Including ASN'], errors='coerce')\n",
    "merge_file['Confirmed_MinShipDt'] = pd.to_datetime(merge_file['Confirmed_MinShipDt'])\n",
    "merge_file['SAP Line Down Date'] = pd.to_datetime(merge_file['SAP Line Down Date'])\n",
    "merge_file['PO Placement Date'] = pd.to_datetime(merge_file['PO Placement Date']).dt.date #### Issue\n",
    "merge_file['PO Placement Date'] = pd.to_datetime(merge_file['PO Placement Date'])\n",
    "merge_file['PO Due Date'] = pd.to_datetime(merge_file['PO Due Date'])\n",
    "merge_file['Waterloo Report DOH'] = merge_file['Waterloo Report DOH'].astype(float)\n",
    "merge_file['Annual EAU per part # (All units)'] = merge_file['Annual EAU per part # (All units)'].astype(int)\n",
    "merge_file['Deere PO Demand'] = merge_file['Deere PO Demand'].astype(int)\n",
    "merge_file['Deere Ordering Location ASN Qty'] = merge_file['Deere Ordering Location ASN Qty'].astype(int)\n",
    "merge_file['Deere Ordering Location Stock + ASN Qty'] = merge_file['Deere Ordering Location Stock + ASN Qty'].astype(int) #\n",
    "merge_file['Deere Responsibility Area'] = merge_file['Deere Ordering Plant Code'].astype(str)\n",
    "merge_file['Responsibility Area'] = merge_file['Deere Ordering Plant Code'].astype(str)\n",
    "merge_file['Supplier #'] = merge_file['Supplier #'].astype(int)\n",
    "merge_file['OnHandTN'] = merge_file['OnHandTN'].astype(float).astype(int)\n",
    "merge_file['OnHandIA'] = merge_file['OnHandIA'].astype(float).astype(int)\n",
    "merge_file['qty_OnShipping'] = merge_file['qty_OnShipping'].astype(float).astype(int)\n",
    "merge_file['qty_Confirmed'] = merge_file['qty_Confirmed'].astype(float).astype(int)"
   ]
  },
  {
   "cell_type": "code",
   "execution_count": 17,
   "id": "1b78f3a8",
   "metadata": {
    "execution": {
     "iopub.execute_input": "2021-12-10T14:19:00.280670Z",
     "iopub.status.busy": "2021-12-10T14:19:00.280034Z",
     "iopub.status.idle": "2021-12-10T14:19:02.872084Z",
     "shell.execute_reply": "2021-12-10T14:19:02.871046Z"
    },
    "scrolled": true
   },
   "outputs": [],
   "source": [
    "str_cols = merge_file.columns[merge_file.dtypes == 'object']\n",
    "for col in str_cols:\n",
    "    merge_file[col] = merge_file[col].str.strip()"
   ]
  },
  {
   "cell_type": "code",
   "execution_count": 18,
   "id": "474e6454",
   "metadata": {
    "execution": {
     "iopub.execute_input": "2021-12-10T14:19:02.875024Z",
     "iopub.status.busy": "2021-12-10T14:19:02.874412Z",
     "iopub.status.idle": "2021-12-10T14:19:03.346815Z",
     "shell.execute_reply": "2021-12-10T14:19:03.347542Z"
    }
   },
   "outputs": [],
   "source": [
    "deere_country_map = {'Harvester Works - East Moline (US)': 'United States', 'Waterloo Works (US)': 'United States',\n",
    "                    'Dubuque Works (US)': 'United States', 'Horicon Works (US)': 'United States', 'Davenport Works (US)':'United States',\n",
    "                    'Des Moines Works (US)':'United States', 'Thibodaux (US)':'United States', 'Seeding - Moline (US)':'United States',\n",
    "                    'Augusta / Commercial Products (US)': 'United States', 'Greeneville / Power Products (US)': 'United States',\n",
    "                    'Seeding - Valley City (US)': 'United States', 'Turf Care - Fuquay-Varina (US)': 'United States',\n",
    "                    'PATON (US)':'United States', 'Ottumwa Works (US)':'United States', 'Cylinder Division - Moline (US)': 'United States',\n",
    "                    'WORLDWIDE LOGISTICS  (US)': 'United States', 'SUNBELT - CHARLOTTE (US)': 'United States', 'Motores Torreon (Mexico)': 'Mexico',\n",
    "                    'JD Reman - Springfield (US)': 'United States', 'Coffeyville Works (US)': 'United States',\n",
    "                    'Engine Works - Waterloo (US)': 'United States'}\n",
    "\n",
    "merge_file['Country'] = merge_file['Deere Ordering Location Name'].replace(deere_country_map)"
   ]
  },
  {
   "cell_type": "code",
   "execution_count": 19,
   "id": "936d4168",
   "metadata": {
    "execution": {
     "iopub.execute_input": "2021-12-10T14:19:03.369261Z",
     "iopub.status.busy": "2021-12-10T14:19:03.368570Z",
     "iopub.status.idle": "2021-12-10T14:19:03.814961Z",
     "shell.execute_reply": "2021-12-10T14:19:03.813935Z"
    }
   },
   "outputs": [],
   "source": [
    "deere_state_map = {'Harvester Works - East Moline (US)': 'Illinois', 'Waterloo Works (US)': 'Iowa',\n",
    "                    'Dubuque Works (US)': 'Iowa', 'Horicon Works (US)': 'Wisconsin', 'Davenport Works (US)':'Iowa',\n",
    "                    'Des Moines Works (US)':'Iowa', 'Thibodaux (US)':'Louisiana', 'Seeding - Moline (US)':'Illinois',\n",
    "                    'Augusta / Commercial Products (US)': 'Georgia', 'Greeneville / Power Products (US)': 'Tennessee',\n",
    "                    'Seeding - Valley City (US)': 'North Dakota', 'Turf Care - Fuquay-Varina (US)': 'North Carolina',\n",
    "                    'PATON (US)':'Iowa', 'Ottumwa Works (US)':'Iowa', 'Cylinder Division - Moline (US)': 'Illinois',\n",
    "                    'WORLDWIDE LOGISTICS  (US)': 'Illinois', 'SUNBELT - CHARLOTTE (US)': 'North Carolina', 'Motores Torreon (Mexico)': 'NA',\n",
    "                    'JD Reman - Springfield (US)': 'Missouri', 'Coffeyville Works (US)': 'Kansas', 'Engine Works - Waterloo (US)': 'Iowa',}\n",
    "merge_file['State'] = merge_file['Deere Ordering Location Name'].replace(deere_state_map)"
   ]
  },
  {
   "cell_type": "code",
   "execution_count": 20,
   "id": "1a3eff4e",
   "metadata": {
    "execution": {
     "iopub.execute_input": "2021-12-10T14:19:03.836592Z",
     "iopub.status.busy": "2021-12-10T14:19:03.835938Z",
     "iopub.status.idle": "2021-12-10T14:19:04.278931Z",
     "shell.execute_reply": "2021-12-10T14:19:04.277902Z"
    }
   },
   "outputs": [],
   "source": [
    "deere_city_map = {'Harvester Works - East Moline (US)': 'East Moline', 'Waterloo Works (US)': 'Waterloo',\n",
    "                    'Dubuque Works (US)': 'Dubuque', 'Horicon Works (US)': 'Horicon', 'Davenport Works (US)':'Davenport',\n",
    "                    'Des Moines Works (US)':'Des Moines', 'Thibodaux (US)':'Thibodaux', 'Seeding - Moline (US)':'Moline',\n",
    "                    'Augusta / Commercial Products (US)': 'Augusta', 'Greeneville / Power Products (US)': 'Greeneville',\n",
    "                    'Seeding - Valley City (US)': 'Valley City', 'Turf Care - Fuquay-Varina (US)': 'Fuquay-Varina',\n",
    "                    'PATON (US)':'Paton', 'Ottumwa Works (US)':'Ottumwa', 'Cylinder Division - Moline (US)': 'Moline',\n",
    "                    'WORLDWIDE LOGISTICS  (US)': 'Moline', 'SUNBELT - CHARLOTTE (US)': 'Charlotte', 'Motores Torreon (Mexico)': 'Torreon', \n",
    "                    'JD Reman - Springfield (US)': 'Springfield', 'Coffeyville Works (US)': 'Coffeyville', 'Engine Works - Waterloo (US)': 'Waterloo',\n",
    "                 }\n",
    "merge_file['City'] = merge_file['Deere Ordering Location Name'].replace(deere_city_map)"
   ]
  },
  {
   "cell_type": "code",
   "execution_count": 21,
   "id": "f33203ed",
   "metadata": {
    "execution": {
     "iopub.execute_input": "2021-12-10T14:19:04.284678Z",
     "iopub.status.busy": "2021-12-10T14:19:04.283782Z",
     "iopub.status.idle": "2021-12-10T14:19:04.306212Z",
     "shell.execute_reply": "2021-12-10T14:19:04.305038Z"
    }
   },
   "outputs": [],
   "source": [
    "# Calculated Fields\n",
    "merge_file['On Hand Inventory at Deere'] = merge_file['Deere Ordering Location Stock + ASN Qty'] - merge_file['Deere Ordering Location ASN Qty']\n",
    "merge_file['Critical Part Alert'] = merge_file['Part on Waterloo Critical Report?']\n",
    "merge_file['Deere Stock'] = merge_file['On Hand Inventory at Deere']\n",
    "merge_file['Transit Stock'] = merge_file['Deere Ordering Location ASN Qty']\n",
    "merge_file['In Transit Inventory to Deere'] = merge_file['Deere Ordering Location ASN Qty']\n",
    "merge_file['Base Commodity'] = merge_file['MaterialDesc']"
   ]
  },
  {
   "cell_type": "markdown",
   "id": "74c3f6ea",
   "metadata": {},
   "source": [
    "# Mock Data"
   ]
  },
  {
   "cell_type": "code",
   "execution_count": 22,
   "id": "5a4bd186",
   "metadata": {
    "execution": {
     "iopub.execute_input": "2021-12-10T14:19:04.329801Z",
     "iopub.status.busy": "2021-12-10T14:19:04.319245Z",
     "iopub.status.idle": "2021-12-10T14:19:20.697113Z",
     "shell.execute_reply": "2021-12-10T14:19:20.696198Z"
    }
   },
   "outputs": [],
   "source": [
    "def random_date(start, end):\n",
    "    \"\"\"\n",
    "    This function will return a random datetime between two datetime \n",
    "    objects.\n",
    "    \"\"\"\n",
    "    delta = end - start\n",
    "    int_delta = (delta.days * 24 * 60 * 60) + delta.seconds\n",
    "    random_second = randrange(int_delta)\n",
    "    return start + timedelta(seconds=random_second)\n",
    "\n",
    "\n",
    "n_tier_po_due_date = []\n",
    "for dates in range(merge_file.shape[0]):\n",
    "    d1 = datetime.datetime.strptime('1/1/2015', '%m/%d/%Y')\n",
    "    d2 = datetime.datetime.strptime('1/1/2021', '%m/%d/%Y')\n",
    "\n",
    "    n_tier_po_due_date.append(random_date(d1, d2))\n",
    "    \n",
    "n_tier_po_forecast_date = []\n",
    "for dates in range(merge_file.shape[0]):\n",
    "    d1 = datetime.datetime.strptime('1/1/2015', '%m/%d/%Y')\n",
    "    d2 = datetime.datetime.strptime('1/1/2021', '%m/%d/%Y')\n",
    "\n",
    "    n_tier_po_forecast_date.append(random_date(d1, d2))"
   ]
  },
  {
   "cell_type": "code",
   "execution_count": 23,
   "id": "66554e4e",
   "metadata": {
    "execution": {
     "iopub.execute_input": "2021-12-10T14:19:20.711582Z",
     "iopub.status.busy": "2021-12-10T14:19:20.699838Z",
     "iopub.status.idle": "2021-12-10T14:19:30.911556Z",
     "shell.execute_reply": "2021-12-10T14:19:30.910536Z"
    }
   },
   "outputs": [],
   "source": [
    "merge_file['Supplier Stock'] = [np.random.randint(0,10000) for i in range(merge_file.shape[0])]\n",
    "merge_file['P/N: Per Unit Price (Deere Data/Supplier Data)'] = [np.random.randint(500,1000) for i in range(merge_file.shape[0])]\n",
    "# merge_file['Base Commodity Price (3rd Party Data)'] = [np.random.randint(35,9000) for i in range(merge_file.shape[0])]\n",
    "# merge_file['Base Commodity Price Change (3rd Party Data)'] = np.random.choice(a = ['increase', 'decrease'], size = merge_file.shape[0],\n",
    "#                                                                                p = [0.6, 0.4])\n",
    "# merge_file['Base Commodity Change % (3rd Party Data)'] = [np.random.randint(0.01,2.5) for i in range(merge_file.shape[0])]\n",
    "merge_file['Supplier Critical Part Number'] = [''.join(random.choices(string.ascii_letters + string.digits, k=10)) for i in range(merge_file.shape[0])]\n",
    "merge_file['Supplier Can Build Critical Part Qty: On Hand'] = [np.random.randint(2,35800) for i in range(merge_file.shape[0])]\n",
    "merge_file['Tier N Supplier PO#'] = [str(np.random.randint(5000000000,6000000000)) for i in range(merge_file.shape[0])]\n",
    "merge_file['Tier N PO Qty'] = [np.random.randint(0,10000) for i in range(merge_file.shape[0])]\n",
    "# merge_file['Tier N Supplier Location (Country)'] = bossard['Tier_N_Supplier_Location']# merge_file['Country']\n",
    "merge_file['Supplier Tier N Supplier Name'] = np.random.choice(a = ['A', 'B', 'C', 'D', 'E'], size = merge_file.shape[0],\n",
    "                                                                               p = [0.1, 0.2, 0.3, 0.3, 0.1])\n",
    "merge_file['Is Supplier Tier N Forecast Date within 30 days of Deere Need Date? (0 - No, 1 - Yes)'] = np.random.choice(a = ['No', 'Yes'], size = merge_file.shape[0],\n",
    "                                                                               p = [0.6, 0.4])\n",
    "merge_file['Does Inventory On-Hand Meet Demand including able to build (0 - No, 1 - Yes)'] = np.random.choice(a = ['No', 'Yes'], size = merge_file.shape[0],\n",
    "                                                                               p = [0.6, 0.4])\n",
    "merge_file['Material Description'] = merge_file['Deere Material Description']\n",
    "merge_file['Commodity Group'] = merge_file['Deere Commodity Group']\n",
    "merge_file['Plant'] = merge_file['Deere Ordering Plant Code']\n",
    "merge_file['Deere Responsibility Area'] = merge_file['Deere Responsibility Area'].astype(str)\n",
    "# merge_file['Responsibility Area'] = merge_file['Deere Responsibility Area']\n",
    "merge_file['Deere Location Name'] = merge_file['Deere Ordering Location Name']\n",
    "merge_file['Tier N Supplier PO Due Date'] = n_tier_po_due_date\n",
    "merge_file['Tier N Supplier PO Forecast Date'] = n_tier_po_forecast_date\n",
    "merge_file['Product Family'] = merge_file['Deere Product Family']\n",
    "merge_file['Inventory Alert'] = np.random.choice(a = ['Yes', 'No'], size = merge_file.shape[0],\n",
    "                                                                               p = [0.9, 0.1])\n",
    "merge_file['Deere Alt Location 1 Name'] = merge_file['Deere Ordering Location Name']\n",
    "merge_file['Country Code'] = merge_file['Bossard Locations']\n",
    "merge_file['On Hand Iowa'] = merge_file['OnHandIA']\n",
    "merge_file['On Hand Tenessee'] = merge_file['OnHandTN']\n",
    "merge_file['Confirmed Qty'] = merge_file['qty_Confirmed']\n",
    "merge_file['Minimum Shipping Date'] = merge_file['Confirmed_MinShipDt']\n",
    "# merge_file['Tier N Supplier Location (Country)'] = merge_file['Country']\n",
    "merge_file['In Transit Inventory to Supplier'] = merge_file['qty_OnShipping']\n",
    "\n",
    "# mask1 = merge_file['PO Due Date']  < date.today().strftime(\"%Y/%m/%d\")\n",
    "mask1 = merge_file['PO Due Date'] <= \"2021-11-30\"#\"30-11-2021\"\n",
    "# mask2 = merge_file['PO Due Date']  >= (date.today() - datetime.timedelta(days=30)).strftime(\"%Y/%m/%d\")\n",
    "mask2 = merge_file['PO Due Date'] >= \"2021-11-01\"#\"1-11-2021\"\n",
    "merge_file['Actual Deere PO Demand'] = merge_file['Deere PO Demand'].where(mask1)\n",
    "merge_file['Forecasted Deere PO Demand'] = merge_file['Deere PO Demand'].where(mask2)\n",
    "merge_file['Supplier Alternative Supplier 1'] = 'Deere & Co.'\n",
    "merge_file['Supplier Alternative Supplier Qty:'] = [np.random.randint(2,35800) for i in range(merge_file.shape[0])]\n",
    "merge_file['Supplier Alternative Supplier 2'] = 'MOCK DATA'\n",
    "merge_file['Supplier Alternative Supplier 3'] = 'MOCK DATA'\n",
    "merge_file['Supplier Product Line'] = 'MOCK DATA'\n",
    "merge_file['Product Material Family'] = 'MOCK DATA'\n",
    "merge_file['Deere Alt Location 2 Name'] = 'MOCK DATA'\n",
    "merge_file['Tier N Supplier Location'] = merge_file['Country']"
   ]
  },
  {
   "cell_type": "code",
   "execution_count": 24,
   "id": "296b7f83",
   "metadata": {
    "execution": {
     "iopub.execute_input": "2021-12-10T14:19:30.917198Z",
     "iopub.status.busy": "2021-12-10T14:19:30.916585Z",
     "iopub.status.idle": "2021-12-10T14:19:38.575212Z",
     "shell.execute_reply": "2021-12-10T14:19:38.574337Z"
    }
   },
   "outputs": [
    {
     "data": {
      "text/html": [
       "<div>\n",
       "<style scoped>\n",
       "    .dataframe tbody tr th:only-of-type {\n",
       "        vertical-align: middle;\n",
       "    }\n",
       "\n",
       "    .dataframe tbody tr th {\n",
       "        vertical-align: top;\n",
       "    }\n",
       "\n",
       "    .dataframe thead th {\n",
       "        text-align: right;\n",
       "    }\n",
       "</style>\n",
       "<table border=\"1\" class=\"dataframe\">\n",
       "  <thead>\n",
       "    <tr style=\"text-align: right;\">\n",
       "      <th></th>\n",
       "      <th>PO Number</th>\n",
       "      <th>SAP Line Down Date</th>\n",
       "      <th>Deere PO Demand</th>\n",
       "      <th>PO Due Date</th>\n",
       "    </tr>\n",
       "  </thead>\n",
       "  <tbody>\n",
       "    <tr>\n",
       "      <th>0</th>\n",
       "      <td>5501039548</td>\n",
       "      <td>0</td>\n",
       "      <td>350</td>\n",
       "      <td>2022-01-10</td>\n",
       "    </tr>\n",
       "    <tr>\n",
       "      <th>1</th>\n",
       "      <td>5501039548</td>\n",
       "      <td>0</td>\n",
       "      <td>350</td>\n",
       "      <td>2022-02-03</td>\n",
       "    </tr>\n",
       "    <tr>\n",
       "      <th>2</th>\n",
       "      <td>5501039548</td>\n",
       "      <td>0</td>\n",
       "      <td>350</td>\n",
       "      <td>2022-01-20</td>\n",
       "    </tr>\n",
       "    <tr>\n",
       "      <th>3</th>\n",
       "      <td>5501039548</td>\n",
       "      <td>0</td>\n",
       "      <td>350</td>\n",
       "      <td>2022-02-24</td>\n",
       "    </tr>\n",
       "    <tr>\n",
       "      <th>4</th>\n",
       "      <td>5501039548</td>\n",
       "      <td>0</td>\n",
       "      <td>350</td>\n",
       "      <td>2022-02-14</td>\n",
       "    </tr>\n",
       "  </tbody>\n",
       "</table>\n",
       "</div>"
      ],
      "text/plain": [
       "    PO Number SAP Line Down Date  Deere PO Demand PO Due Date\n",
       "0  5501039548                  0              350  2022-01-10\n",
       "1  5501039548                  0              350  2022-02-03\n",
       "2  5501039548                  0              350  2022-01-20\n",
       "3  5501039548                  0              350  2022-02-24\n",
       "4  5501039548                  0              350  2022-02-14"
      ]
     },
     "execution_count": 1,
     "metadata": {},
     "output_type": "execute_result"
    }
   ],
   "source": [
    "merge_file_subset = merge_file[['PO Number', 'SAP Line Down Date', 'Deere PO Demand', 'PO Due Date']]\n",
    "merge_file_subset = merge_file_subset.fillna(0)\n",
    "merge_file_subset.head()"
   ]
  },
  {
   "cell_type": "code",
   "execution_count": 25,
   "id": "10fd5010",
   "metadata": {
    "execution": {
     "iopub.execute_input": "2021-12-10T14:19:38.592238Z",
     "iopub.status.busy": "2021-12-10T14:19:38.587187Z",
     "iopub.status.idle": "2021-12-10T14:23:25.563213Z",
     "shell.execute_reply": "2021-12-10T14:23:25.562661Z"
    }
   },
   "outputs": [],
   "source": [
    "cum_po_demand = []\n",
    "for count, po in enumerate (merge_file_subset['PO Number'].unique()):\n",
    "    temp_df = merge_file_subset[merge_file_subset['PO Number'] == po].reset_index(drop = True)\n",
    "    line_down_date = temp_df['SAP Line Down Date'][0]\n",
    "    if line_down_date == 0:\n",
    "        temp_df['Cumulative PO demand'] = np.nan\n",
    "    else:\n",
    "        temp_df_subset = temp_df[temp_df['PO Due Date'] <= line_down_date]\n",
    "        temp_df['Cumulative PO demand'] = temp_df_subset['Deere PO Demand'].sum()\n",
    "    cum_po_demand.append(temp_df)"
   ]
  },
  {
   "cell_type": "code",
   "execution_count": 26,
   "id": "09c70495",
   "metadata": {
    "execution": {
     "iopub.execute_input": "2021-12-10T14:23:25.570492Z",
     "iopub.status.busy": "2021-12-10T14:23:25.569407Z",
     "iopub.status.idle": "2021-12-10T14:23:30.576898Z",
     "shell.execute_reply": "2021-12-10T14:23:30.576349Z"
    }
   },
   "outputs": [],
   "source": [
    "cum_po_demand_df = pd.concat(cum_po_demand, axis = 0).drop(['SAP Line Down Date', 'Deere PO Demand', 'PO Due Date'], axis = 1).drop_duplicates()"
   ]
  },
  {
   "cell_type": "code",
   "execution_count": 27,
   "id": "7b1e0aa8",
   "metadata": {
    "execution": {
     "iopub.execute_input": "2021-12-10T14:23:30.581261Z",
     "iopub.status.busy": "2021-12-10T14:23:30.580668Z",
     "iopub.status.idle": "2021-12-10T14:23:36.334404Z",
     "shell.execute_reply": "2021-12-10T14:23:36.334917Z"
    }
   },
   "outputs": [],
   "source": [
    "merge_file = pd.merge(cum_po_demand_df, merge_file, on = \"PO Number\", how = 'inner')"
   ]
  },
  {
   "cell_type": "code",
   "execution_count": 28,
   "id": "74693b46",
   "metadata": {
    "execution": {
     "iopub.execute_input": "2021-12-10T14:23:36.354086Z",
     "iopub.status.busy": "2021-12-10T14:23:36.339333Z",
     "iopub.status.idle": "2021-12-10T14:23:36.859917Z",
     "shell.execute_reply": "2021-12-10T14:23:36.860440Z"
    }
   },
   "outputs": [],
   "source": [
    "merge_file = pd.merge(merge_file, commodity, on = 'Base Commodity', how = 'left')"
   ]
  },
  {
   "cell_type": "code",
   "execution_count": 29,
   "id": "ebe875b9",
   "metadata": {
    "execution": {
     "iopub.execute_input": "2021-12-10T14:23:36.865704Z",
     "iopub.status.busy": "2021-12-10T14:23:36.864925Z",
     "iopub.status.idle": "2021-12-10T14:23:37.704697Z",
     "shell.execute_reply": "2021-12-10T14:23:37.705480Z"
    }
   },
   "outputs": [],
   "source": [
    "# Filter the required columns\n",
    "merge_file = merge_file[columns]"
   ]
  },
  {
   "cell_type": "code",
   "execution_count": 30,
   "id": "3551875f",
   "metadata": {
    "execution": {
     "iopub.execute_input": "2021-12-10T14:23:37.708973Z",
     "iopub.status.busy": "2021-12-10T14:23:37.707835Z",
     "iopub.status.idle": "2021-12-10T14:23:37.971218Z",
     "shell.execute_reply": "2021-12-10T14:23:37.972010Z"
    }
   },
   "outputs": [],
   "source": [
    "merge_file = merge_file.rename(columns = {\"JDDemand_6mos\": \"Deere EDI 6 months\", \"JDDemand_12mos\": \"Deere EDI 12 months\",\n",
    "                                         \"Annual EAU per part # (All units)\": 'Estimated Annual Usage per piece'})"
   ]
  },
  {
   "cell_type": "code",
   "execution_count": 31,
   "id": "1a3b39ca",
   "metadata": {
    "execution": {
     "iopub.execute_input": "2021-12-10T14:23:37.975622Z",
     "iopub.status.busy": "2021-12-10T14:23:37.974534Z",
     "iopub.status.idle": "2021-12-10T14:23:37.981153Z",
     "shell.execute_reply": "2021-12-10T14:23:37.981898Z"
    }
   },
   "outputs": [
    {
     "data": {
      "text/plain": [
       "(409758, 66)"
      ]
     },
     "execution_count": 1,
     "metadata": {},
     "output_type": "execute_result"
    }
   ],
   "source": [
    "merge_file.shape"
   ]
  },
  {
   "cell_type": "code",
   "execution_count": 32,
   "id": "936ef922",
   "metadata": {
    "execution": {
     "iopub.execute_input": "2021-12-10T14:23:37.985557Z",
     "iopub.status.busy": "2021-12-10T14:23:37.984467Z",
     "iopub.status.idle": "2021-12-10T14:23:38.047483Z",
     "shell.execute_reply": "2021-12-10T14:23:38.048258Z"
    }
   },
   "outputs": [
    {
     "data": {
      "text/html": [
       "<div>\n",
       "<style scoped>\n",
       "    .dataframe tbody tr th:only-of-type {\n",
       "        vertical-align: middle;\n",
       "    }\n",
       "\n",
       "    .dataframe tbody tr th {\n",
       "        vertical-align: top;\n",
       "    }\n",
       "\n",
       "    .dataframe thead th {\n",
       "        text-align: right;\n",
       "    }\n",
       "</style>\n",
       "<table border=\"1\" class=\"dataframe\">\n",
       "  <thead>\n",
       "    <tr style=\"text-align: right;\">\n",
       "      <th></th>\n",
       "      <th>PO Number</th>\n",
       "      <th>Part Number</th>\n",
       "      <th>SAP Line Down Date</th>\n",
       "      <th>SAP Line Down Including ASN</th>\n",
       "      <th>Part on Waterloo Critical Report?</th>\n",
       "      <th>Waterloo Report DOH</th>\n",
       "      <th># of Units that Use this Part</th>\n",
       "      <th>Estimated Annual Usage per piece</th>\n",
       "      <th>On Hand Inventory at Deere</th>\n",
       "      <th>In Transit Inventory to Deere</th>\n",
       "      <th>Deere Ordering Location Stock + ASN Qty</th>\n",
       "      <th>Supplier Stock</th>\n",
       "      <th>P/N: Per Unit Price (Deere Data/Supplier Data)</th>\n",
       "      <th>Base Commodity</th>\n",
       "      <th>Base Commodity PPI</th>\n",
       "      <th>Base Commodity PPI Change</th>\n",
       "      <th>Base Commodity Change%</th>\n",
       "      <th>Supplier Critical Part Number</th>\n",
       "      <th>Supplier Can Build Critical Part Qty: On Hand</th>\n",
       "      <th>Tier N Supplier PO#</th>\n",
       "      <th>Tier N Supplier PO Due Date</th>\n",
       "      <th>Tier N Supplier PO Forecast Date</th>\n",
       "      <th>Tier N PO Qty</th>\n",
       "      <th>Tier N Supplier Location (Country)</th>\n",
       "      <th>Supplier Tier N Supplier Name</th>\n",
       "      <th>Critical Part Alert</th>\n",
       "      <th>Deere PO Demand</th>\n",
       "      <th>Is Supplier Tier N Forecast Date within 30 days of Deere Need Date? (0 - No, 1 - Yes)</th>\n",
       "      <th>Does Inventory On-Hand Meet Demand including able to build (0 - No, 1 - Yes)</th>\n",
       "      <th>Inventory Alert</th>\n",
       "      <th>Supplier Alternative Supplier 1</th>\n",
       "      <th>Supplier Alternative Supplier Qty:</th>\n",
       "      <th>Supplier Alternative Supplier 2</th>\n",
       "      <th>Supplier Alternative Supplier 3</th>\n",
       "      <th>Supplier Product Line</th>\n",
       "      <th>Product Family</th>\n",
       "      <th>Product Material Family</th>\n",
       "      <th>Material Description</th>\n",
       "      <th>Commodity Group</th>\n",
       "      <th>Plant</th>\n",
       "      <th>Responsibility Area</th>\n",
       "      <th>Deere Location Name</th>\n",
       "      <th>Deere Alt Location 1 Name</th>\n",
       "      <th>Deere Alt Location 2 Name</th>\n",
       "      <th>Deere Stock</th>\n",
       "      <th>Transit Stock</th>\n",
       "      <th>Country Code</th>\n",
       "      <th>Supplier #</th>\n",
       "      <th>Supplier Name</th>\n",
       "      <th>Deere Product Family</th>\n",
       "      <th>On Hand Iowa</th>\n",
       "      <th>On Hand Tenessee</th>\n",
       "      <th>Confirmed Qty</th>\n",
       "      <th>Minimum Shipping Date</th>\n",
       "      <th>Tier N Supplier Location</th>\n",
       "      <th>In Transit Inventory to Supplier</th>\n",
       "      <th>PO Due Date</th>\n",
       "      <th>Actual Deere PO Demand</th>\n",
       "      <th>Forecasted Deere PO Demand</th>\n",
       "      <th>Country</th>\n",
       "      <th>State</th>\n",
       "      <th>City</th>\n",
       "      <th>Deere EDI 6 months</th>\n",
       "      <th>Deere EDI 12 months</th>\n",
       "      <th>Cumulative PO demand</th>\n",
       "      <th>LeadTime</th>\n",
       "    </tr>\n",
       "  </thead>\n",
       "  <tbody>\n",
       "    <tr>\n",
       "      <th>0</th>\n",
       "      <td>5501039548</td>\n",
       "      <td>19M9090</td>\n",
       "      <td>NaT</td>\n",
       "      <td>NaT</td>\n",
       "      <td>No</td>\n",
       "      <td>0.0</td>\n",
       "      <td>NaN</td>\n",
       "      <td>39900</td>\n",
       "      <td>0</td>\n",
       "      <td>0</td>\n",
       "      <td>0</td>\n",
       "      <td>2714</td>\n",
       "      <td>582</td>\n",
       "      <td>Steel</td>\n",
       "      <td>418.0</td>\n",
       "      <td>Increase</td>\n",
       "      <td>3.747828</td>\n",
       "      <td>vJKC3J1xqy</td>\n",
       "      <td>17318</td>\n",
       "      <td>5785941394</td>\n",
       "      <td>2020-07-18 07:21:00</td>\n",
       "      <td>2016-09-23 18:09:10</td>\n",
       "      <td>4303</td>\n",
       "      <td>Brazil</td>\n",
       "      <td>D</td>\n",
       "      <td>No</td>\n",
       "      <td>350</td>\n",
       "      <td>No</td>\n",
       "      <td>Yes</td>\n",
       "      <td>Yes</td>\n",
       "      <td>Deere &amp; Co.</td>\n",
       "      <td>25175</td>\n",
       "      <td>MOCK DATA</td>\n",
       "      <td>MOCK DATA</td>\n",
       "      <td>MOCK DATA</td>\n",
       "      <td>NaN</td>\n",
       "      <td>MOCK DATA</td>\n",
       "      <td>CAP SCREW</td>\n",
       "      <td>Aftermarket Ferrous &amp; Tracks</td>\n",
       "      <td>LV00</td>\n",
       "      <td>LV00</td>\n",
       "      <td>Augusta / Commercial Products (US)</td>\n",
       "      <td>Augusta / Commercial Products (US)</td>\n",
       "      <td>MOCK DATA</td>\n",
       "      <td>0</td>\n",
       "      <td>0</td>\n",
       "      <td>US</td>\n",
       "      <td>2666</td>\n",
       "      <td>BOSSARD INC.</td>\n",
       "      <td>NaN</td>\n",
       "      <td>0</td>\n",
       "      <td>9647</td>\n",
       "      <td>0</td>\n",
       "      <td>NaT</td>\n",
       "      <td>United States</td>\n",
       "      <td>19424</td>\n",
       "      <td>2022-01-10</td>\n",
       "      <td>NaN</td>\n",
       "      <td>350.0</td>\n",
       "      <td>United States</td>\n",
       "      <td>Georgia</td>\n",
       "      <td>Augusta</td>\n",
       "      <td>18900.0000000000</td>\n",
       "      <td>39200.0000000000</td>\n",
       "      <td>NaN</td>\n",
       "      <td>32</td>\n",
       "    </tr>\n",
       "    <tr>\n",
       "      <th>1</th>\n",
       "      <td>5501039548</td>\n",
       "      <td>19M9090</td>\n",
       "      <td>NaT</td>\n",
       "      <td>NaT</td>\n",
       "      <td>No</td>\n",
       "      <td>0.0</td>\n",
       "      <td>NaN</td>\n",
       "      <td>39900</td>\n",
       "      <td>0</td>\n",
       "      <td>0</td>\n",
       "      <td>0</td>\n",
       "      <td>1148</td>\n",
       "      <td>606</td>\n",
       "      <td>Steel</td>\n",
       "      <td>418.0</td>\n",
       "      <td>Increase</td>\n",
       "      <td>3.747828</td>\n",
       "      <td>WJ7dFpvInf</td>\n",
       "      <td>2692</td>\n",
       "      <td>5879570999</td>\n",
       "      <td>2020-09-29 03:20:41</td>\n",
       "      <td>2016-10-28 16:25:37</td>\n",
       "      <td>3274</td>\n",
       "      <td>Brazil</td>\n",
       "      <td>B</td>\n",
       "      <td>No</td>\n",
       "      <td>350</td>\n",
       "      <td>Yes</td>\n",
       "      <td>Yes</td>\n",
       "      <td>Yes</td>\n",
       "      <td>Deere &amp; Co.</td>\n",
       "      <td>26751</td>\n",
       "      <td>MOCK DATA</td>\n",
       "      <td>MOCK DATA</td>\n",
       "      <td>MOCK DATA</td>\n",
       "      <td>NaN</td>\n",
       "      <td>MOCK DATA</td>\n",
       "      <td>CAP SCREW</td>\n",
       "      <td>Aftermarket Ferrous &amp; Tracks</td>\n",
       "      <td>LV00</td>\n",
       "      <td>LV00</td>\n",
       "      <td>Augusta / Commercial Products (US)</td>\n",
       "      <td>Augusta / Commercial Products (US)</td>\n",
       "      <td>MOCK DATA</td>\n",
       "      <td>0</td>\n",
       "      <td>0</td>\n",
       "      <td>US</td>\n",
       "      <td>2666</td>\n",
       "      <td>BOSSARD INC.</td>\n",
       "      <td>NaN</td>\n",
       "      <td>0</td>\n",
       "      <td>9647</td>\n",
       "      <td>0</td>\n",
       "      <td>NaT</td>\n",
       "      <td>United States</td>\n",
       "      <td>19424</td>\n",
       "      <td>2022-02-03</td>\n",
       "      <td>NaN</td>\n",
       "      <td>350.0</td>\n",
       "      <td>United States</td>\n",
       "      <td>Georgia</td>\n",
       "      <td>Augusta</td>\n",
       "      <td>18900.0000000000</td>\n",
       "      <td>39200.0000000000</td>\n",
       "      <td>NaN</td>\n",
       "      <td>32</td>\n",
       "    </tr>\n",
       "    <tr>\n",
       "      <th>2</th>\n",
       "      <td>5501039548</td>\n",
       "      <td>19M9090</td>\n",
       "      <td>NaT</td>\n",
       "      <td>NaT</td>\n",
       "      <td>No</td>\n",
       "      <td>0.0</td>\n",
       "      <td>NaN</td>\n",
       "      <td>39900</td>\n",
       "      <td>0</td>\n",
       "      <td>0</td>\n",
       "      <td>0</td>\n",
       "      <td>8328</td>\n",
       "      <td>838</td>\n",
       "      <td>Steel</td>\n",
       "      <td>418.0</td>\n",
       "      <td>Increase</td>\n",
       "      <td>3.747828</td>\n",
       "      <td>XDgDksxEBJ</td>\n",
       "      <td>22584</td>\n",
       "      <td>5861532184</td>\n",
       "      <td>2020-06-19 10:33:46</td>\n",
       "      <td>2017-12-14 07:02:34</td>\n",
       "      <td>5950</td>\n",
       "      <td>Brazil</td>\n",
       "      <td>B</td>\n",
       "      <td>No</td>\n",
       "      <td>350</td>\n",
       "      <td>Yes</td>\n",
       "      <td>No</td>\n",
       "      <td>No</td>\n",
       "      <td>Deere &amp; Co.</td>\n",
       "      <td>15153</td>\n",
       "      <td>MOCK DATA</td>\n",
       "      <td>MOCK DATA</td>\n",
       "      <td>MOCK DATA</td>\n",
       "      <td>NaN</td>\n",
       "      <td>MOCK DATA</td>\n",
       "      <td>CAP SCREW</td>\n",
       "      <td>Aftermarket Ferrous &amp; Tracks</td>\n",
       "      <td>LV00</td>\n",
       "      <td>LV00</td>\n",
       "      <td>Augusta / Commercial Products (US)</td>\n",
       "      <td>Augusta / Commercial Products (US)</td>\n",
       "      <td>MOCK DATA</td>\n",
       "      <td>0</td>\n",
       "      <td>0</td>\n",
       "      <td>US</td>\n",
       "      <td>2666</td>\n",
       "      <td>BOSSARD INC.</td>\n",
       "      <td>NaN</td>\n",
       "      <td>0</td>\n",
       "      <td>9647</td>\n",
       "      <td>0</td>\n",
       "      <td>NaT</td>\n",
       "      <td>United States</td>\n",
       "      <td>19424</td>\n",
       "      <td>2022-01-20</td>\n",
       "      <td>NaN</td>\n",
       "      <td>350.0</td>\n",
       "      <td>United States</td>\n",
       "      <td>Georgia</td>\n",
       "      <td>Augusta</td>\n",
       "      <td>18900.0000000000</td>\n",
       "      <td>39200.0000000000</td>\n",
       "      <td>NaN</td>\n",
       "      <td>32</td>\n",
       "    </tr>\n",
       "    <tr>\n",
       "      <th>3</th>\n",
       "      <td>5501039548</td>\n",
       "      <td>19M9090</td>\n",
       "      <td>NaT</td>\n",
       "      <td>NaT</td>\n",
       "      <td>No</td>\n",
       "      <td>0.0</td>\n",
       "      <td>NaN</td>\n",
       "      <td>39900</td>\n",
       "      <td>0</td>\n",
       "      <td>0</td>\n",
       "      <td>0</td>\n",
       "      <td>76</td>\n",
       "      <td>618</td>\n",
       "      <td>Steel</td>\n",
       "      <td>418.0</td>\n",
       "      <td>Increase</td>\n",
       "      <td>3.747828</td>\n",
       "      <td>ezSBXmkser</td>\n",
       "      <td>19305</td>\n",
       "      <td>5273184558</td>\n",
       "      <td>2015-01-31 03:13:13</td>\n",
       "      <td>2020-03-05 08:21:01</td>\n",
       "      <td>3772</td>\n",
       "      <td>Brazil</td>\n",
       "      <td>E</td>\n",
       "      <td>No</td>\n",
       "      <td>350</td>\n",
       "      <td>No</td>\n",
       "      <td>Yes</td>\n",
       "      <td>No</td>\n",
       "      <td>Deere &amp; Co.</td>\n",
       "      <td>33742</td>\n",
       "      <td>MOCK DATA</td>\n",
       "      <td>MOCK DATA</td>\n",
       "      <td>MOCK DATA</td>\n",
       "      <td>NaN</td>\n",
       "      <td>MOCK DATA</td>\n",
       "      <td>CAP SCREW</td>\n",
       "      <td>Aftermarket Ferrous &amp; Tracks</td>\n",
       "      <td>LV00</td>\n",
       "      <td>LV00</td>\n",
       "      <td>Augusta / Commercial Products (US)</td>\n",
       "      <td>Augusta / Commercial Products (US)</td>\n",
       "      <td>MOCK DATA</td>\n",
       "      <td>0</td>\n",
       "      <td>0</td>\n",
       "      <td>US</td>\n",
       "      <td>2666</td>\n",
       "      <td>BOSSARD INC.</td>\n",
       "      <td>NaN</td>\n",
       "      <td>0</td>\n",
       "      <td>9647</td>\n",
       "      <td>0</td>\n",
       "      <td>NaT</td>\n",
       "      <td>United States</td>\n",
       "      <td>19424</td>\n",
       "      <td>2022-02-24</td>\n",
       "      <td>NaN</td>\n",
       "      <td>350.0</td>\n",
       "      <td>United States</td>\n",
       "      <td>Georgia</td>\n",
       "      <td>Augusta</td>\n",
       "      <td>18900.0000000000</td>\n",
       "      <td>39200.0000000000</td>\n",
       "      <td>NaN</td>\n",
       "      <td>32</td>\n",
       "    </tr>\n",
       "    <tr>\n",
       "      <th>4</th>\n",
       "      <td>5501039548</td>\n",
       "      <td>19M9090</td>\n",
       "      <td>NaT</td>\n",
       "      <td>NaT</td>\n",
       "      <td>No</td>\n",
       "      <td>0.0</td>\n",
       "      <td>NaN</td>\n",
       "      <td>39900</td>\n",
       "      <td>0</td>\n",
       "      <td>0</td>\n",
       "      <td>0</td>\n",
       "      <td>8443</td>\n",
       "      <td>508</td>\n",
       "      <td>Steel</td>\n",
       "      <td>418.0</td>\n",
       "      <td>Increase</td>\n",
       "      <td>3.747828</td>\n",
       "      <td>LRScJSo9f9</td>\n",
       "      <td>18411</td>\n",
       "      <td>5954679640</td>\n",
       "      <td>2019-04-18 07:00:59</td>\n",
       "      <td>2018-08-28 19:58:23</td>\n",
       "      <td>7638</td>\n",
       "      <td>Brazil</td>\n",
       "      <td>C</td>\n",
       "      <td>No</td>\n",
       "      <td>350</td>\n",
       "      <td>No</td>\n",
       "      <td>No</td>\n",
       "      <td>Yes</td>\n",
       "      <td>Deere &amp; Co.</td>\n",
       "      <td>17806</td>\n",
       "      <td>MOCK DATA</td>\n",
       "      <td>MOCK DATA</td>\n",
       "      <td>MOCK DATA</td>\n",
       "      <td>NaN</td>\n",
       "      <td>MOCK DATA</td>\n",
       "      <td>CAP SCREW</td>\n",
       "      <td>Aftermarket Ferrous &amp; Tracks</td>\n",
       "      <td>LV00</td>\n",
       "      <td>LV00</td>\n",
       "      <td>Augusta / Commercial Products (US)</td>\n",
       "      <td>Augusta / Commercial Products (US)</td>\n",
       "      <td>MOCK DATA</td>\n",
       "      <td>0</td>\n",
       "      <td>0</td>\n",
       "      <td>US</td>\n",
       "      <td>2666</td>\n",
       "      <td>BOSSARD INC.</td>\n",
       "      <td>NaN</td>\n",
       "      <td>0</td>\n",
       "      <td>9647</td>\n",
       "      <td>0</td>\n",
       "      <td>NaT</td>\n",
       "      <td>United States</td>\n",
       "      <td>19424</td>\n",
       "      <td>2022-02-14</td>\n",
       "      <td>NaN</td>\n",
       "      <td>350.0</td>\n",
       "      <td>United States</td>\n",
       "      <td>Georgia</td>\n",
       "      <td>Augusta</td>\n",
       "      <td>18900.0000000000</td>\n",
       "      <td>39200.0000000000</td>\n",
       "      <td>NaN</td>\n",
       "      <td>32</td>\n",
       "    </tr>\n",
       "  </tbody>\n",
       "</table>\n",
       "</div>"
      ],
      "text/plain": [
       "    PO Number Part Number SAP Line Down Date SAP Line Down Including ASN  \\\n",
       "0  5501039548     19M9090                NaT                         NaT   \n",
       "1  5501039548     19M9090                NaT                         NaT   \n",
       "2  5501039548     19M9090                NaT                         NaT   \n",
       "3  5501039548     19M9090                NaT                         NaT   \n",
       "4  5501039548     19M9090                NaT                         NaT   \n",
       "\n",
       "  Part on Waterloo Critical Report?  Waterloo Report DOH  \\\n",
       "0                                No                  0.0   \n",
       "1                                No                  0.0   \n",
       "2                                No                  0.0   \n",
       "3                                No                  0.0   \n",
       "4                                No                  0.0   \n",
       "\n",
       "   # of Units that Use this Part  Estimated Annual Usage per piece  \\\n",
       "0                            NaN                             39900   \n",
       "1                            NaN                             39900   \n",
       "2                            NaN                             39900   \n",
       "3                            NaN                             39900   \n",
       "4                            NaN                             39900   \n",
       "\n",
       "   On Hand Inventory at Deere  In Transit Inventory to Deere  \\\n",
       "0                           0                              0   \n",
       "1                           0                              0   \n",
       "2                           0                              0   \n",
       "3                           0                              0   \n",
       "4                           0                              0   \n",
       "\n",
       "   Deere Ordering Location Stock + ASN Qty  Supplier Stock  \\\n",
       "0                                        0            2714   \n",
       "1                                        0            1148   \n",
       "2                                        0            8328   \n",
       "3                                        0              76   \n",
       "4                                        0            8443   \n",
       "\n",
       "   P/N: Per Unit Price (Deere Data/Supplier Data) Base Commodity  \\\n",
       "0                                             582          Steel   \n",
       "1                                             606          Steel   \n",
       "2                                             838          Steel   \n",
       "3                                             618          Steel   \n",
       "4                                             508          Steel   \n",
       "\n",
       "   Base Commodity PPI Base Commodity PPI Change  Base Commodity Change%  \\\n",
       "0               418.0                  Increase                3.747828   \n",
       "1               418.0                  Increase                3.747828   \n",
       "2               418.0                  Increase                3.747828   \n",
       "3               418.0                  Increase                3.747828   \n",
       "4               418.0                  Increase                3.747828   \n",
       "\n",
       "  Supplier Critical Part Number  \\\n",
       "0                    vJKC3J1xqy   \n",
       "1                    WJ7dFpvInf   \n",
       "2                    XDgDksxEBJ   \n",
       "3                    ezSBXmkser   \n",
       "4                    LRScJSo9f9   \n",
       "\n",
       "   Supplier Can Build Critical Part Qty: On Hand Tier N Supplier PO#  \\\n",
       "0                                          17318          5785941394   \n",
       "1                                           2692          5879570999   \n",
       "2                                          22584          5861532184   \n",
       "3                                          19305          5273184558   \n",
       "4                                          18411          5954679640   \n",
       "\n",
       "  Tier N Supplier PO Due Date Tier N Supplier PO Forecast Date  Tier N PO Qty  \\\n",
       "0         2020-07-18 07:21:00              2016-09-23 18:09:10           4303   \n",
       "1         2020-09-29 03:20:41              2016-10-28 16:25:37           3274   \n",
       "2         2020-06-19 10:33:46              2017-12-14 07:02:34           5950   \n",
       "3         2015-01-31 03:13:13              2020-03-05 08:21:01           3772   \n",
       "4         2019-04-18 07:00:59              2018-08-28 19:58:23           7638   \n",
       "\n",
       "  Tier N Supplier Location (Country) Supplier Tier N Supplier Name  \\\n",
       "0                             Brazil                             D   \n",
       "1                             Brazil                             B   \n",
       "2                             Brazil                             B   \n",
       "3                             Brazil                             E   \n",
       "4                             Brazil                             C   \n",
       "\n",
       "  Critical Part Alert  Deere PO Demand  \\\n",
       "0                  No              350   \n",
       "1                  No              350   \n",
       "2                  No              350   \n",
       "3                  No              350   \n",
       "4                  No              350   \n",
       "\n",
       "  Is Supplier Tier N Forecast Date within 30 days of Deere Need Date? (0 - No, 1 - Yes)  \\\n",
       "0                                                 No                                      \n",
       "1                                                Yes                                      \n",
       "2                                                Yes                                      \n",
       "3                                                 No                                      \n",
       "4                                                 No                                      \n",
       "\n",
       "  Does Inventory On-Hand Meet Demand including able to build (0 - No, 1 - Yes)  \\\n",
       "0                                                Yes                             \n",
       "1                                                Yes                             \n",
       "2                                                 No                             \n",
       "3                                                Yes                             \n",
       "4                                                 No                             \n",
       "\n",
       "  Inventory Alert Supplier Alternative Supplier 1  \\\n",
       "0             Yes                     Deere & Co.   \n",
       "1             Yes                     Deere & Co.   \n",
       "2              No                     Deere & Co.   \n",
       "3              No                     Deere & Co.   \n",
       "4             Yes                     Deere & Co.   \n",
       "\n",
       "   Supplier Alternative Supplier Qty: Supplier Alternative Supplier 2  \\\n",
       "0                               25175                       MOCK DATA   \n",
       "1                               26751                       MOCK DATA   \n",
       "2                               15153                       MOCK DATA   \n",
       "3                               33742                       MOCK DATA   \n",
       "4                               17806                       MOCK DATA   \n",
       "\n",
       "  Supplier Alternative Supplier 3 Supplier Product Line  Product Family  \\\n",
       "0                       MOCK DATA             MOCK DATA             NaN   \n",
       "1                       MOCK DATA             MOCK DATA             NaN   \n",
       "2                       MOCK DATA             MOCK DATA             NaN   \n",
       "3                       MOCK DATA             MOCK DATA             NaN   \n",
       "4                       MOCK DATA             MOCK DATA             NaN   \n",
       "\n",
       "  Product Material Family Material Description               Commodity Group  \\\n",
       "0               MOCK DATA            CAP SCREW  Aftermarket Ferrous & Tracks   \n",
       "1               MOCK DATA            CAP SCREW  Aftermarket Ferrous & Tracks   \n",
       "2               MOCK DATA            CAP SCREW  Aftermarket Ferrous & Tracks   \n",
       "3               MOCK DATA            CAP SCREW  Aftermarket Ferrous & Tracks   \n",
       "4               MOCK DATA            CAP SCREW  Aftermarket Ferrous & Tracks   \n",
       "\n",
       "  Plant Responsibility Area                 Deere Location Name  \\\n",
       "0  LV00                LV00  Augusta / Commercial Products (US)   \n",
       "1  LV00                LV00  Augusta / Commercial Products (US)   \n",
       "2  LV00                LV00  Augusta / Commercial Products (US)   \n",
       "3  LV00                LV00  Augusta / Commercial Products (US)   \n",
       "4  LV00                LV00  Augusta / Commercial Products (US)   \n",
       "\n",
       "            Deere Alt Location 1 Name Deere Alt Location 2 Name  Deere Stock  \\\n",
       "0  Augusta / Commercial Products (US)                 MOCK DATA            0   \n",
       "1  Augusta / Commercial Products (US)                 MOCK DATA            0   \n",
       "2  Augusta / Commercial Products (US)                 MOCK DATA            0   \n",
       "3  Augusta / Commercial Products (US)                 MOCK DATA            0   \n",
       "4  Augusta / Commercial Products (US)                 MOCK DATA            0   \n",
       "\n",
       "   Transit Stock Country Code  Supplier # Supplier Name  Deere Product Family  \\\n",
       "0              0           US        2666  BOSSARD INC.                   NaN   \n",
       "1              0           US        2666  BOSSARD INC.                   NaN   \n",
       "2              0           US        2666  BOSSARD INC.                   NaN   \n",
       "3              0           US        2666  BOSSARD INC.                   NaN   \n",
       "4              0           US        2666  BOSSARD INC.                   NaN   \n",
       "\n",
       "   On Hand Iowa  On Hand Tenessee  Confirmed Qty Minimum Shipping Date  \\\n",
       "0             0              9647              0                   NaT   \n",
       "1             0              9647              0                   NaT   \n",
       "2             0              9647              0                   NaT   \n",
       "3             0              9647              0                   NaT   \n",
       "4             0              9647              0                   NaT   \n",
       "\n",
       "  Tier N Supplier Location  In Transit Inventory to Supplier PO Due Date  \\\n",
       "0            United States                             19424  2022-01-10   \n",
       "1            United States                             19424  2022-02-03   \n",
       "2            United States                             19424  2022-01-20   \n",
       "3            United States                             19424  2022-02-24   \n",
       "4            United States                             19424  2022-02-14   \n",
       "\n",
       "   Actual Deere PO Demand  Forecasted Deere PO Demand        Country    State  \\\n",
       "0                     NaN                       350.0  United States  Georgia   \n",
       "1                     NaN                       350.0  United States  Georgia   \n",
       "2                     NaN                       350.0  United States  Georgia   \n",
       "3                     NaN                       350.0  United States  Georgia   \n",
       "4                     NaN                       350.0  United States  Georgia   \n",
       "\n",
       "      City Deere EDI 6 months Deere EDI 12 months  Cumulative PO demand  \\\n",
       "0  Augusta   18900.0000000000    39200.0000000000                   NaN   \n",
       "1  Augusta   18900.0000000000    39200.0000000000                   NaN   \n",
       "2  Augusta   18900.0000000000    39200.0000000000                   NaN   \n",
       "3  Augusta   18900.0000000000    39200.0000000000                   NaN   \n",
       "4  Augusta   18900.0000000000    39200.0000000000                   NaN   \n",
       "\n",
       "  LeadTime  \n",
       "0       32  \n",
       "1       32  \n",
       "2       32  \n",
       "3       32  \n",
       "4       32  "
      ]
     },
     "execution_count": 1,
     "metadata": {},
     "output_type": "execute_result"
    }
   ],
   "source": [
    "merge_file.head()"
   ]
  },
  {
   "cell_type": "code",
   "execution_count": 33,
   "id": "975b6e8b",
   "metadata": {
    "execution": {
     "iopub.execute_input": "2021-12-10T14:23:38.051906Z",
     "iopub.status.busy": "2021-12-10T14:23:38.050778Z",
     "iopub.status.idle": "2021-12-10T14:24:02.406874Z",
     "shell.execute_reply": "2021-12-10T14:24:02.407390Z"
    }
   },
   "outputs": [],
   "source": [
    "# Bossard Final write\n",
    "merge_file.to_csv('Bossard Live Main Table.csv', index = False)\n",
    "\n",
    "prefix = 'Final/bossard/Bossard Live Main Table/' \n",
    "boto3.Session().resource('s3').Bucket(bucket_name).Object(os.path.join(prefix, 'Bossard Live Main Table.csv')).upload_file('Bossard Live Main Table.csv')"
   ]
  },
  {
   "cell_type": "markdown",
   "id": "060c514a",
   "metadata": {},
   "source": [
    "# Bossard Inventory"
   ]
  },
  {
   "cell_type": "code",
   "execution_count": 34,
   "id": "a369ca37",
   "metadata": {
    "execution": {
     "iopub.execute_input": "2021-12-10T14:24:02.414394Z",
     "iopub.status.busy": "2021-12-10T14:24:02.413760Z",
     "iopub.status.idle": "2021-12-10T14:24:02.766538Z",
     "shell.execute_reply": "2021-12-10T14:24:02.765950Z"
    }
   },
   "outputs": [],
   "source": [
    "upper = merge_file[['PO Number', 'Part Number', 'On Hand Iowa']]\n",
    "upper['Location'] = 'Iowa'\n",
    "upper['City'] = 'Cedar Falls'\n",
    "\n",
    "lower = merge_file[['PO Number', 'Part Number', 'On Hand Tenessee']]\n",
    "lower['Location'] = 'Tennessee'\n",
    "lower['City'] = 'Greeneville'\n",
    "lower = lower.rename(columns = {'On Hand Tenessee': 'On Hand Iowa'})\n",
    "\n",
    "bossard_inventory = pd.concat([upper, lower], axis = 0)\n",
    "bossard_inventory = bossard_inventory.rename(columns = {'On Hand Iowa': 'On Hand'})"
   ]
  },
  {
   "cell_type": "code",
   "execution_count": 35,
   "id": "7c6a5f44",
   "metadata": {
    "execution": {
     "iopub.execute_input": "2021-12-10T14:24:02.771617Z",
     "iopub.status.busy": "2021-12-10T14:24:02.771005Z",
     "iopub.status.idle": "2021-12-10T14:24:09.542746Z",
     "shell.execute_reply": "2021-12-10T14:24:09.542198Z"
    }
   },
   "outputs": [],
   "source": [
    "# Bossard Final write\n",
    "bossard_inventory.to_csv('Bossard Live Inventory.csv', index = False)\n",
    "\n",
    "prefix = 'Final/bossard/Bossard Live Inventory/'\n",
    "boto3.Session().resource('s3').Bucket(bucket_name).Object(os.path.join(prefix, 'Bossard Live Inventory.csv')).upload_file('Bossard Live Inventory.csv')"
   ]
  },
  {
   "cell_type": "markdown",
   "id": "412f0766",
   "metadata": {},
   "source": [
    "# Bossard Alternative Supplier"
   ]
  },
  {
   "cell_type": "code",
   "execution_count": 36,
   "id": "b84e8333",
   "metadata": {
    "execution": {
     "iopub.execute_input": "2021-12-10T14:24:09.548358Z",
     "iopub.status.busy": "2021-12-10T14:24:09.547758Z",
     "iopub.status.idle": "2021-12-10T14:24:09.755131Z",
     "shell.execute_reply": "2021-12-10T14:24:09.755745Z"
    }
   },
   "outputs": [],
   "source": [
    "alternate_supplier = merge_file[['PO Number', 'Part Number', 'Deere Location Name']]\n",
    "alternate_supplier['Deere Ordering Location Stock'] = merge_file['On Hand Inventory at Deere']\n",
    "alternate_supplier = alternate_supplier.drop_duplicates()\n",
    "alternate_supplier = alternate_supplier[['PO Number', 'Part Number', 'Deere Ordering Location Stock', 'Deere Location Name']]"
   ]
  },
  {
   "cell_type": "code",
   "execution_count": 37,
   "id": "669c2128",
   "metadata": {
    "execution": {
     "iopub.execute_input": "2021-12-10T14:24:09.764817Z",
     "iopub.status.busy": "2021-12-10T14:24:09.763483Z",
     "iopub.status.idle": "2021-12-10T14:24:09.765513Z",
     "shell.execute_reply": "2021-12-10T14:24:09.766128Z"
    }
   },
   "outputs": [],
   "source": [
    "def inner_func(data_part):\n",
    "    temp_list = []\n",
    "    if len(data_part) == 1:\n",
    "        data_part['Category'] = 'Ordering Plant'\n",
    "        return data_part\n",
    "    else:\n",
    "        for i in range(len(data_part)):\n",
    "            temp1 = data_part.iloc[[i]]\n",
    "            temp1['Category'] = 'Ordering Plant'\n",
    "            temp2 = data_part.drop(i)\n",
    "            temp2['Category'] = \"Alternative Supplier\"\n",
    "            temp2['PO Number'] = temp1['PO Number'].tolist()[0]\n",
    "            temp2['label'] = list(range(len(temp2)))\n",
    "            temp2['Category'] = temp2['Category'].astype(str) + \" \" + temp2['label'].astype(str)\n",
    "\n",
    "            temp3 = pd.concat([temp1, temp2], axis = 0)\n",
    "            temp3 = temp3.drop_duplicates(subset = 'Deere Location Name', keep=\"first\")\n",
    "            temp_list.append(temp3)\n",
    "    \n",
    "        return pd.concat(temp_list, axis = 0).drop('label', axis = 1)"
   ]
  },
  {
   "cell_type": "code",
   "execution_count": 38,
   "id": "866e7c25",
   "metadata": {
    "execution": {
     "iopub.execute_input": "2021-12-10T14:24:09.771914Z",
     "iopub.status.busy": "2021-12-10T14:24:09.771337Z",
     "iopub.status.idle": "2021-12-10T14:25:35.890991Z",
     "shell.execute_reply": "2021-12-10T14:25:35.891506Z"
    }
   },
   "outputs": [],
   "source": [
    "result = []\n",
    "for pn in alternate_supplier['Part Number'].unique():\n",
    "    data_part = alternate_supplier[alternate_supplier[\"Part Number\"] == pn].drop_duplicates().reset_index(drop = True)\n",
    "    result.append(inner_func(data_part))"
   ]
  },
  {
   "cell_type": "code",
   "execution_count": 39,
   "id": "2026116e",
   "metadata": {
    "execution": {
     "iopub.execute_input": "2021-12-10T14:25:35.907387Z",
     "iopub.status.busy": "2021-12-10T14:25:35.905146Z",
     "iopub.status.idle": "2021-12-10T14:25:38.143397Z",
     "shell.execute_reply": "2021-12-10T14:25:38.142501Z"
    }
   },
   "outputs": [],
   "source": [
    "final_result = pd.concat(result, axis = 0)"
   ]
  },
  {
   "cell_type": "code",
   "execution_count": 40,
   "id": "924e5f2a",
   "metadata": {
    "execution": {
     "iopub.execute_input": "2021-12-10T14:25:38.150453Z",
     "iopub.status.busy": "2021-12-10T14:25:38.149833Z",
     "iopub.status.idle": "2021-12-10T14:25:38.179242Z",
     "shell.execute_reply": "2021-12-10T14:25:38.179750Z"
    }
   },
   "outputs": [],
   "source": [
    "final_result_first = final_result.groupby(['PO Number', 'Part Number']).head(1)"
   ]
  },
  {
   "cell_type": "code",
   "execution_count": 41,
   "id": "9e6d29f3",
   "metadata": {
    "execution": {
     "iopub.execute_input": "2021-12-10T14:25:38.189718Z",
     "iopub.status.busy": "2021-12-10T14:25:38.187383Z",
     "iopub.status.idle": "2021-12-10T14:26:59.918000Z",
     "shell.execute_reply": "2021-12-10T14:26:59.917066Z"
    }
   },
   "outputs": [],
   "source": [
    "dfs= []\n",
    "po_on_combo = final_result[['PO Number', 'Part Number']].drop_duplicates().values\n",
    "for i in range(len(po_on_combo)):\n",
    "#     print(i)\n",
    "    po = po_on_combo[i][0]\n",
    "    pn = po_on_combo[i][1]\n",
    "    temp_df = final_result[(final_result['Part Number'] == pn) & (final_result['PO Number'] == po)]\n",
    "    if temp_df.shape[0] == 1:\n",
    "#         print(\"Single row for PO Part combination\")\n",
    "        continue\n",
    "    else:\n",
    "        temp_df = temp_df[1:]\n",
    "        temp_df = temp_df.sort_values(by = 'Deere Ordering Location Stock', ascending = False)\n",
    "    temp_df['New Category'] = list(range(1, len(temp_df) + 1))\n",
    "    temp_df['Category'] = 'Alternate Supplier ' + temp_df['New Category'].astype(str)\n",
    "    temp_df = temp_df.drop('New Category', axis = 1)\n",
    "    dfs.append(temp_df)\n",
    "\n",
    "sorted_df = pd.concat(dfs, axis = 0)"
   ]
  },
  {
   "cell_type": "code",
   "execution_count": 42,
   "id": "615fba08",
   "metadata": {
    "execution": {
     "iopub.execute_input": "2021-12-10T14:26:59.922492Z",
     "iopub.status.busy": "2021-12-10T14:26:59.921873Z",
     "iopub.status.idle": "2021-12-10T14:26:59.934312Z",
     "shell.execute_reply": "2021-12-10T14:26:59.933741Z"
    }
   },
   "outputs": [],
   "source": [
    "location_table = pd.concat([final_result_first, sorted_df], axis = 0)"
   ]
  },
  {
   "cell_type": "code",
   "execution_count": 43,
   "id": "7d1c1017",
   "metadata": {
    "execution": {
     "iopub.execute_input": "2021-12-10T14:26:59.941830Z",
     "iopub.status.busy": "2021-12-10T14:26:59.940446Z",
     "iopub.status.idle": "2021-12-10T14:27:00.053680Z",
     "shell.execute_reply": "2021-12-10T14:27:00.054261Z"
    }
   },
   "outputs": [],
   "source": [
    "location_table['Country'] = location_table['Deere Location Name'].replace(deere_country_map)\n",
    "location_table['State'] = location_table['Deere Location Name'].replace(deere_state_map)\n",
    "location_table['City'] = location_table['Deere Location Name'].replace(deere_city_map)"
   ]
  },
  {
   "cell_type": "code",
   "execution_count": 44,
   "id": "f9801ae2",
   "metadata": {
    "execution": {
     "iopub.execute_input": "2021-12-10T14:27:00.067716Z",
     "iopub.status.busy": "2021-12-10T14:27:00.067009Z",
     "iopub.status.idle": "2021-12-10T14:28:15.289901Z",
     "shell.execute_reply": "2021-12-10T14:28:15.289325Z"
    }
   },
   "outputs": [],
   "source": [
    "add = []\n",
    "for i in range(len(po_on_combo)):\n",
    "    po = po_on_combo[i][0]\n",
    "    pn = po_on_combo[i][1]\n",
    "    temp_df = location_table[(location_table['Part Number'] == pn) & (location_table['PO Number'] == po)]\n",
    "    temp_df['On Hand Inventory at Deere'] = temp_df['Deere Ordering Location Stock'].sum()\n",
    "    add.append(temp_df)\n",
    "    \n",
    "location_table = pd.concat(add, axis = 0)"
   ]
  },
  {
   "cell_type": "code",
   "execution_count": 45,
   "id": "3c644777",
   "metadata": {
    "execution": {
     "iopub.execute_input": "2021-12-10T14:28:15.295805Z",
     "iopub.status.busy": "2021-12-10T14:28:15.295199Z",
     "iopub.status.idle": "2021-12-10T14:28:15.458572Z",
     "shell.execute_reply": "2021-12-10T14:28:15.459077Z"
    }
   },
   "outputs": [],
   "source": [
    "merge_file_subset = merge_file[['PO Number', 'Part Number', 'In Transit Inventory to Supplier']]\n",
    "merge_file_subset = merge_file_subset.groupby(['PO Number', 'Part Number']).max().reset_index()"
   ]
  },
  {
   "cell_type": "code",
   "execution_count": 46,
   "id": "d9de91fe",
   "metadata": {
    "execution": {
     "iopub.execute_input": "2021-12-10T14:28:15.467681Z",
     "iopub.status.busy": "2021-12-10T14:28:15.467082Z",
     "iopub.status.idle": "2021-12-10T14:29:57.332547Z",
     "shell.execute_reply": "2021-12-10T14:29:57.331987Z"
    }
   },
   "outputs": [],
   "source": [
    "transit_inv_sum = []\n",
    "for i in range(len(po_on_combo)):\n",
    "#     print(i)\n",
    "    po = po_on_combo[i][0]\n",
    "    pn = po_on_combo[i][1]\n",
    "    merge_temp_df = merge_file_subset[(merge_file_subset['Part Number'] == pn) & (merge_file_subset['PO Number'] == po)]['In Transit Inventory to Supplier'].values[0]\n",
    "    temp_df = location_table[(location_table['Part Number'] == pn) & (location_table['PO Number'] == po)]\n",
    "    temp_df['In Transit Inventory to Supplier'] = merge_temp_df\n",
    "    transit_inv_sum.append(temp_df)\n",
    "\n",
    "location_table = pd.concat(transit_inv_sum, axis = 0)"
   ]
  },
  {
   "cell_type": "code",
   "execution_count": 47,
   "id": "d0786e45",
   "metadata": {
    "execution": {
     "iopub.execute_input": "2021-12-10T14:29:57.339477Z",
     "iopub.status.busy": "2021-12-10T14:29:57.338851Z",
     "iopub.status.idle": "2021-12-10T14:29:57.521213Z",
     "shell.execute_reply": "2021-12-10T14:29:57.520668Z"
    }
   },
   "outputs": [],
   "source": [
    "merge_file_deer_inv = merge_file[['PO Number', 'Part Number', 'In Transit Inventory to Deere']]\n",
    "merge_file_deer_inv = merge_file_deer_inv.groupby(['PO Number', 'Part Number']).sum().reset_index()"
   ]
  },
  {
   "cell_type": "code",
   "execution_count": 48,
   "id": "690a4986",
   "metadata": {
    "execution": {
     "iopub.execute_input": "2021-12-10T14:29:57.530641Z",
     "iopub.status.busy": "2021-12-10T14:29:57.529811Z",
     "iopub.status.idle": "2021-12-10T14:31:36.022966Z",
     "shell.execute_reply": "2021-12-10T14:31:36.022159Z"
    }
   },
   "outputs": [],
   "source": [
    "transit_inv_deere_sum = []\n",
    "for i in range(len(po_on_combo)):\n",
    "#     print(i)\n",
    "    po = po_on_combo[i][0]\n",
    "    pn = po_on_combo[i][1]\n",
    "    merge_temp_df = merge_file_deer_inv[(merge_file_deer_inv['Part Number'] == pn) & (merge_file_deer_inv['PO Number'] == po)]['In Transit Inventory to Deere'].values[0]\n",
    "    temp_df = location_table[(location_table['Part Number'] == pn) & (location_table['PO Number'] == po)]\n",
    "    temp_df['In Transit Inventory to Deere'] = merge_temp_df\n",
    "    transit_inv_deere_sum.append(temp_df)\n",
    "\n",
    "location_table = pd.concat(transit_inv_deere_sum, axis = 0)"
   ]
  },
  {
   "cell_type": "code",
   "execution_count": 49,
   "id": "a16e54aa",
   "metadata": {
    "execution": {
     "iopub.execute_input": "2021-12-10T14:31:36.030239Z",
     "iopub.status.busy": "2021-12-10T14:31:36.029605Z",
     "iopub.status.idle": "2021-12-10T14:31:36.200104Z",
     "shell.execute_reply": "2021-12-10T14:31:36.199543Z"
    }
   },
   "outputs": [],
   "source": [
    "merge_file_ia_tn = merge_file[['PO Number', 'Part Number']]\n",
    "merge_file_ia_tn['On Hand Inventory at Supplier'] = merge_file['On Hand Iowa'] + merge_file['On Hand Tenessee']\n",
    "merge_file_ia_tn = merge_file_ia_tn.groupby(['PO Number', 'Part Number']).max().reset_index()"
   ]
  },
  {
   "cell_type": "code",
   "execution_count": 50,
   "id": "aee5ea44",
   "metadata": {
    "execution": {
     "iopub.execute_input": "2021-12-10T14:31:36.215779Z",
     "iopub.status.busy": "2021-12-10T14:31:36.208315Z",
     "iopub.status.idle": "2021-12-10T14:33:10.110843Z",
     "shell.execute_reply": "2021-12-10T14:33:10.110292Z"
    }
   },
   "outputs": [],
   "source": [
    "transit_io_tn_sum = []\n",
    "for i in range(len(po_on_combo)):\n",
    "#     print(i)\n",
    "    po = po_on_combo[i][0]\n",
    "    pn = po_on_combo[i][1]\n",
    "    merge_temp_df = merge_file_ia_tn[(merge_file_ia_tn['Part Number'] == pn) & (merge_file_ia_tn['PO Number'] == po)]['On Hand Inventory at Supplier'].values[0]\n",
    "    temp_df = location_table[(location_table['Part Number'] == pn) & (location_table['PO Number'] == po)]\n",
    "    temp_df['On Hand Inventory at Supplier'] = merge_temp_df\n",
    "    transit_io_tn_sum.append(temp_df)\n",
    "\n",
    "location_table = pd.concat(transit_io_tn_sum, axis = 0)"
   ]
  },
  {
   "cell_type": "code",
   "execution_count": 51,
   "id": "4aa16c21",
   "metadata": {
    "execution": {
     "iopub.execute_input": "2021-12-10T14:33:10.116648Z",
     "iopub.status.busy": "2021-12-10T14:33:10.116060Z",
     "iopub.status.idle": "2021-12-10T14:33:13.175546Z",
     "shell.execute_reply": "2021-12-10T14:33:13.174761Z"
    }
   },
   "outputs": [],
   "source": [
    "# Bossard Final write\n",
    "location_table.to_csv('Bossard Live Location Table.csv', index = False)\n",
    "    \n",
    "prefix = 'Final/bossard/Bossard Live Location Table/'\n",
    "boto3.Session().resource('s3').Bucket(bucket_name).Object(os.path.join(prefix, 'Bossard Live Location Table.csv')).upload_file('Bossard Live Location Table.csv')"
   ]
  },
  {
   "cell_type": "markdown",
   "id": "cf5efa60",
   "metadata": {},
   "source": [
    "# Time Stamp"
   ]
  },
  {
   "cell_type": "code",
   "execution_count": 52,
   "id": "61a322db",
   "metadata": {
    "execution": {
     "iopub.execute_input": "2021-12-10T14:33:13.183017Z",
     "iopub.status.busy": "2021-12-10T14:33:13.182422Z",
     "iopub.status.idle": "2021-12-10T14:33:14.400991Z",
     "shell.execute_reply": "2021-12-10T14:33:14.399917Z"
    }
   },
   "outputs": [],
   "source": [
    "from datetime import date\n",
    "from datetime import datetime\n",
    "from pytz import timezone\n",
    "\n",
    "now = datetime.now(timezone('US/Central')) # 'America/Chicago'\n",
    "dt_string = now.strftime(\"%d/%m/%Y %H:%M:%S\")\n",
    "# today = date.today()\n",
    "# today = today.strftime(\"%d/%m/%Y\")\n",
    "date_df = pd.DataFrame({'Last Updated (IST)': [dt_string]})\n",
    "date_df.columns = ['Last Updated (CST)']\n",
    "time = date_df['Last Updated (CST)'][0][-9:]\n",
    "date_df['Last Updated (CST)'] = pd.to_datetime(date_df['Last Updated (CST)'])\n",
    "date_df['Last Updated (CST)'] = date_df['Last Updated (CST)'].dt.strftime('%d/%m/%Y')\n",
    "date_df['Last Updated (CST)'] = date_df['Last Updated (CST)'].astype(str) + time\n",
    "\n",
    "# Bossard Final write\n",
    "date_df.to_csv('Bossard Live Timestamp.csv', index = False)\n",
    "    \n",
    "prefix = 'Final/bossard/BossardTimestamp/'\n",
    "boto3.Session().resource('s3').Bucket(bucket_name).Object(os.path.join(prefix, 'Bossard Live Timestamp.csv')).upload_file('Bossard Live Timestamp.csv')"
   ]
  },
  {
   "cell_type": "code",
   "execution_count": 53,
   "id": "746fd812",
   "metadata": {
    "execution": {
     "iopub.execute_input": "2021-12-10T14:33:14.405099Z",
     "iopub.status.busy": "2021-12-10T14:33:14.404502Z",
     "iopub.status.idle": "2021-12-10T14:33:14.409367Z",
     "shell.execute_reply": "2021-12-10T14:33:14.408765Z"
    }
   },
   "outputs": [
    {
     "name": "stdout",
     "output_type": "stream",
     "text": [
      "Code ran successfully!!\n"
     ]
    }
   ],
   "source": [
    "print(\"Code ran successfully!!\")"
   ]
  }
 ],
 "metadata": {
  "kernelspec": {
   "display_name": "conda_python3",
   "language": "python",
   "name": "conda_python3"
  },
  "language_info": {
   "codemirror_mode": {
    "name": "ipython",
    "version": 3
   },
   "file_extension": ".py",
   "mimetype": "text/x-python",
   "name": "python",
   "nbconvert_exporter": "python",
   "pygments_lexer": "ipython3",
   "version": "3.6.13"
  }
 },
 "nbformat": 4,
 "nbformat_minor": 5
}
